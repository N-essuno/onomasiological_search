{
 "cells": [
  {
   "cell_type": "code",
   "execution_count": 118,
   "outputs": [],
   "source": [
    "import pandas as pd\n",
    "import nltk\n",
    "from nltk.corpus import wordnet as wn, stopwords\n",
    "from nltk.corpus.reader import Synset\n",
    "from nltk.stem import WordNetLemmatizer\n",
    "from nltk.tokenize import RegexpTokenizer\n",
    "from collections import Counter\n",
    "from typing import Dict, List, Tuple"
   ],
   "metadata": {
    "collapsed": false,
    "ExecuteTime": {
     "end_time": "2024-03-20T16:37:54.477206800Z",
     "start_time": "2024-03-20T16:37:54.418726200Z"
    }
   },
   "id": "6cd764fb30b2e96a"
  },
  {
   "cell_type": "code",
   "execution_count": 119,
   "outputs": [
    {
     "name": "stderr",
     "output_type": "stream",
     "text": [
      "[nltk_data] Downloading package wordnet to\n",
      "[nltk_data]     C:\\Users\\Gianl\\AppData\\Roaming\\nltk_data...\n",
      "[nltk_data]   Package wordnet is already up-to-date!\n"
     ]
    },
    {
     "data": {
      "text/plain": "True"
     },
     "execution_count": 119,
     "metadata": {},
     "output_type": "execute_result"
    }
   ],
   "source": [
    "nltk.download('wordnet')"
   ],
   "metadata": {
    "collapsed": false,
    "ExecuteTime": {
     "end_time": "2024-03-20T16:37:54.538297900Z",
     "start_time": "2024-03-20T16:37:54.433727500Z"
    }
   },
   "id": "ca518ff0c70050d"
  },
  {
   "cell_type": "code",
   "execution_count": 120,
   "outputs": [
    {
     "data": {
      "text/plain": "                                                door  \\\n0  A construction used to divide two rooms, tempo...   \n1       It's an opening, it can be opened or closed.   \n2  An object that divide two room, closing an hol...   \n3         Usable for access from one area to another   \n4  Structure that delimits an area and allows acc...   \n\n                                             ladybug  \\\n0  small flying insect, typically red with black ...   \n1  It is an insect, it has wings, red with black ...   \n2  An insect that can fly. It has red or orange c...   \n3                       Small insect with a red back   \n4                          Small round flying insect   \n\n                                                pain  \\\n0           A feeling of physical or mental distress   \n1  It is a feeling, physical or emotional. It is ...   \n2  A felling that couscious beings can experince ...   \n3    Concept that describes a suffering living being   \n4                     Feeling of physical discomfort   \n\n                                          blurriness  \n0                                 sight out of focus  \n1  It is the absence of definite borders, shapele...  \n2  A sensation felt when you can't see clearly th...  \n3                                  Lack of sharpness  \n4     Characteristic of lack of clarity or precision  ",
      "text/html": "<div>\n<style scoped>\n    .dataframe tbody tr th:only-of-type {\n        vertical-align: middle;\n    }\n\n    .dataframe tbody tr th {\n        vertical-align: top;\n    }\n\n    .dataframe thead th {\n        text-align: right;\n    }\n</style>\n<table border=\"1\" class=\"dataframe\">\n  <thead>\n    <tr style=\"text-align: right;\">\n      <th></th>\n      <th>door</th>\n      <th>ladybug</th>\n      <th>pain</th>\n      <th>blurriness</th>\n    </tr>\n  </thead>\n  <tbody>\n    <tr>\n      <th>0</th>\n      <td>A construction used to divide two rooms, tempo...</td>\n      <td>small flying insect, typically red with black ...</td>\n      <td>A feeling of physical or mental distress</td>\n      <td>sight out of focus</td>\n    </tr>\n    <tr>\n      <th>1</th>\n      <td>It's an opening, it can be opened or closed.</td>\n      <td>It is an insect, it has wings, red with black ...</td>\n      <td>It is a feeling, physical or emotional. It is ...</td>\n      <td>It is the absence of definite borders, shapele...</td>\n    </tr>\n    <tr>\n      <th>2</th>\n      <td>An object that divide two room, closing an hol...</td>\n      <td>An insect that can fly. It has red or orange c...</td>\n      <td>A felling that couscious beings can experince ...</td>\n      <td>A sensation felt when you can't see clearly th...</td>\n    </tr>\n    <tr>\n      <th>3</th>\n      <td>Usable for access from one area to another</td>\n      <td>Small insect with a red back</td>\n      <td>Concept that describes a suffering living being</td>\n      <td>Lack of sharpness</td>\n    </tr>\n    <tr>\n      <th>4</th>\n      <td>Structure that delimits an area and allows acc...</td>\n      <td>Small round flying insect</td>\n      <td>Feeling of physical discomfort</td>\n      <td>Characteristic of lack of clarity or precision</td>\n    </tr>\n  </tbody>\n</table>\n</div>"
     },
     "execution_count": 120,
     "metadata": {},
     "output_type": "execute_result"
    }
   ],
   "source": [
    "definitions = pd.read_csv('resources/definitions.tsv', sep='\\t')\n",
    "definitions.head()\n",
    "\n",
    "# remove index from the dataframe (for each row it is the first element)\n",
    "definitions = definitions.iloc[:, 1:]\n",
    "definitions.head()"
   ],
   "metadata": {
    "collapsed": false,
    "ExecuteTime": {
     "end_time": "2024-03-20T16:37:54.539297100Z",
     "start_time": "2024-03-20T16:37:54.447727Z"
    }
   },
   "id": "e565075752925fbb"
  },
  {
   "cell_type": "code",
   "execution_count": 121,
   "outputs": [],
   "source": [
    "# convert the dataframe to a dictionary for easier access\n",
    "definitions_dict: Dict[str, List[str]] = {}\n",
    "for column in definitions.columns:\n",
    "    definitions_dict[column] = definitions[column].tolist()"
   ],
   "metadata": {
    "collapsed": false,
    "ExecuteTime": {
     "end_time": "2024-03-20T16:37:54.541296500Z",
     "start_time": "2024-03-20T16:37:54.479885Z"
    }
   },
   "id": "f7cc058805ea9006"
  },
  {
   "cell_type": "code",
   "execution_count": 122,
   "outputs": [
    {
     "name": "stdout",
     "output_type": "stream",
     "text": [
      "- DOOR: \n",
      "\tA construction used to divide two rooms, temporarily closing the passage between them\n",
      "- LADYBUG: \n",
      "\tsmall flying insect, typically red with black spots with six legs\n",
      "- PAIN: \n",
      "\tA feeling of physical or mental distress\n",
      "- BLURRINESS: \n",
      "\tsight out of focus\n"
     ]
    }
   ],
   "source": [
    "# print every word and one of its definitions\n",
    "for word in definitions_dict:\n",
    "    print(f'- {word.upper()}: \\n\\t{definitions_dict[word][0]}')"
   ],
   "metadata": {
    "collapsed": false,
    "ExecuteTime": {
     "end_time": "2024-03-20T16:37:54.541296500Z",
     "start_time": "2024-03-20T16:37:54.494296300Z"
    }
   },
   "id": "7c73b36e75d51850"
  },
  {
   "cell_type": "markdown",
   "source": [
    "### Function to calculate the signature of the definitions\n",
    "\n",
    "For each word, the signature is a list of words that are present in the definitions of the word. The words are lemmatized and the punctuation and stop words are removed."
   ],
   "metadata": {
    "collapsed": false
   },
   "id": "11a0ed943058e817"
  },
  {
   "cell_type": "code",
   "execution_count": 123,
   "outputs": [],
   "source": [
    "lemmatizer = WordNetLemmatizer()\n",
    "\n",
    "def clean_sentence(sentence: str) -> List[str]:\n",
    "    # convert to list of words\n",
    "    word_list = sentence.split()\n",
    "    # convert to lower case\n",
    "    word_list = [word.lower() for word in word_list]\n",
    "    # tokenize the words and remove punctuation\n",
    "    tokenizer = RegexpTokenizer(r'\\w+')\n",
    "    word_list = tokenizer.tokenize(' '.join(word_list))\n",
    "    # remove stop words using the nltk stop words list\n",
    "    word_list = [word for word in word_list if word not in stopwords.words('english')]\n",
    "    # lemmatize the words\n",
    "    word_list = [lemmatizer.lemmatize(word) for word in word_list]\n",
    "    return word_list"
   ],
   "metadata": {
    "collapsed": false,
    "ExecuteTime": {
     "end_time": "2024-03-20T16:37:54.542298500Z",
     "start_time": "2024-03-20T16:37:54.505297200Z"
    }
   },
   "id": "5401e697a743a6a5"
  },
  {
   "cell_type": "code",
   "execution_count": 124,
   "outputs": [],
   "source": [
    "# extract synset of 10 most frequent words in definitions\n",
    "def get_synsets_for_word(signature: List[str]) -> List[Synset]:\n",
    "    # calculate words frequency for a definition signature\n",
    "    word_frequency = Counter(signature)\n",
    "    most_common_words: List[Tuple] = word_frequency.most_common(10)\n",
    "    \n",
    "    # get 10 most common nouns from most common words\n",
    "    most_common_nouns = [word_tuple for word_tuple in most_common_words if wn.synsets(word_tuple[0]) and wn.synsets(word_tuple[0])[0].pos() == 'n']\n",
    "    \n",
    "    print(most_common_nouns)\n",
    "    \n",
    "    # get the synsets for the most common nouns\n",
    "    synsets: List[Synset] = [wn.synsets(word_tuple[0])[0] for word_tuple in most_common_nouns]\n",
    "    return synsets"
   ],
   "metadata": {
    "collapsed": false,
    "ExecuteTime": {
     "end_time": "2024-03-20T16:37:54.542298500Z",
     "start_time": "2024-03-20T16:37:54.523305900Z"
    }
   },
   "id": "feaa5efcf095a0aa"
  },
  {
   "cell_type": "code",
   "execution_count": 126,
   "outputs": [
    {
     "name": "stdout",
     "output_type": "stream",
     "text": [
      "['construction', 'used', 'divide', 'two', 'room', 'temporarily', 'closing', 'passage']\n",
      "[('construction', 1), ('divide', 1), ('two', 1), ('room', 1), ('closing', 1), ('passage', 1)]\n"
     ]
    },
    {
     "data": {
      "text/plain": "[Synset('construction.n.01'),\n Synset('divide.n.01'),\n Synset('two.n.01'),\n Synset('room.n.01'),\n Synset('shutting.n.01'),\n Synset('passage.n.01')]"
     },
     "execution_count": 126,
     "metadata": {},
     "output_type": "execute_result"
    }
   ],
   "source": [
    "door_def_1 = definitions_dict['door'][0]\n",
    "signature = clean_sentence(door_def_1)\n",
    "print(signature)\n",
    "get_synsets_for_word(signature)"
   ],
   "metadata": {
    "collapsed": false,
    "ExecuteTime": {
     "end_time": "2024-03-20T16:41:24.808143Z",
     "start_time": "2024-03-20T16:41:24.775143800Z"
    }
   },
   "id": "23078ed7d5089db1"
  },
  {
   "cell_type": "markdown",
   "source": [
    "## TODO\n",
    "\n",
    "Starting from the synsets of the most common words in the definitions, navigate the WordNet graph to find the synset with maximum overlap between definition signature and synset signature."
   ],
   "metadata": {
    "collapsed": false
   },
   "id": "d25a1e2d890adaf1"
  }
 ],
 "metadata": {
  "kernelspec": {
   "display_name": "Python 3",
   "language": "python",
   "name": "python3"
  },
  "language_info": {
   "codemirror_mode": {
    "name": "ipython",
    "version": 2
   },
   "file_extension": ".py",
   "mimetype": "text/x-python",
   "name": "python",
   "nbconvert_exporter": "python",
   "pygments_lexer": "ipython2",
   "version": "2.7.6"
  }
 },
 "nbformat": 4,
 "nbformat_minor": 5
}
