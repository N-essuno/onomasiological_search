{
 "cells": [
  {
   "cell_type": "markdown",
   "source": [
    "## Onomasiological search\n",
    "\n",
    "The goal of this project is to find the most appropriate word for a given definition. For this purpose, we try 4 different approaches:\n",
    "1. Explore all wordnet Synsets and find the synset with maximum overlap between definition signature and synset signature\n",
    "2. Starting from the most general synset (of a noun), explore the WordNet graph following the branch with maximum similarity between the embedded definition signature and the embedded synset signature.\n",
    "3. Measure the similarity between word embeddings in SpaCy vocabulary and definition embeddings and get the word (in SpaCy) with the highest similarity.\n",
    "4. Get the most frequent words in the definition (mfw), get synsets of mfw, its hyponims and hyperonims (mfw_synsets), calculate signature of mfw_synsets (mfw_synsets_signature), get synsets of the mfw_synsets with the best overlap between mfw_synsets_signature and definition signature."
   ],
   "metadata": {
    "collapsed": false
   },
   "id": "c4cdaeb8f6da3d89"
  },
  {
   "cell_type": "code",
   "execution_count": 24,
   "outputs": [],
   "source": [
    "import pandas as pd\n",
    "import nltk\n",
    "from nltk.corpus import wordnet as wn, stopwords\n",
    "from nltk.corpus.reader import Synset\n",
    "from nltk.stem import WordNetLemmatizer\n",
    "from nltk.tokenize import RegexpTokenizer\n",
    "import spacy\n",
    "from spacy.tokens import Doc\n",
    "\n",
    "from collections import Counter\n",
    "from typing import Dict, List, Tuple"
   ],
   "metadata": {
    "collapsed": false,
    "ExecuteTime": {
     "end_time": "2024-04-23T11:56:48.610770600Z",
     "start_time": "2024-04-23T11:56:48.466735200Z"
    }
   },
   "id": "6cd764fb30b2e96a"
  },
  {
   "cell_type": "code",
   "execution_count": 25,
   "outputs": [
    {
     "name": "stderr",
     "output_type": "stream",
     "text": [
      "[nltk_data] Downloading package wordnet to\n",
      "[nltk_data]     C:\\Users\\Gianl\\AppData\\Roaming\\nltk_data...\n",
      "[nltk_data]   Package wordnet is already up-to-date!\n"
     ]
    }
   ],
   "source": [
    "nltk.download('wordnet')\n",
    "# spacy.cli.download(\"en_core_web_md\")\n",
    "embedder = spacy.load(\"en_core_web_md\")"
   ],
   "metadata": {
    "collapsed": false,
    "ExecuteTime": {
     "end_time": "2024-04-23T11:56:49.571765700Z",
     "start_time": "2024-04-23T11:56:48.479722500Z"
    }
   },
   "id": "ca518ff0c70050d"
  },
  {
   "cell_type": "markdown",
   "source": [
    "### Load definitions"
   ],
   "metadata": {
    "collapsed": false
   },
   "id": "e90a945ae0079041"
  },
  {
   "cell_type": "code",
   "execution_count": 26,
   "outputs": [
    {
     "data": {
      "text/plain": "                                                door  \\\n0  A construction used to divide two rooms, tempo...   \n1       It's an opening, it can be opened or closed.   \n2  An object that divide two room, closing an hol...   \n3         Usable for access from one area to another   \n4  Structure that delimits an area and allows acc...   \n\n                                             ladybug  \\\n0  small flying insect, typically red with black ...   \n1  It is an insect, it has wings, red with black ...   \n2  An insect that can fly. It has red or orange c...   \n3                       Small insect with a red back   \n4                          Small round flying insect   \n\n                                                pain  \\\n0           A feeling of physical or mental distress   \n1  It is a feeling, physical or emotional. It is ...   \n2  A felling that couscious beings can experince ...   \n3    Concept that describes a suffering living being   \n4                     Feeling of physical discomfort   \n\n                                          blurriness  \n0                                 sight out of focus  \n1  It is the absence of definite borders, shapele...  \n2  A sensation felt when you can't see clearly th...  \n3                                  Lack of sharpness  \n4     Characteristic of lack of clarity or precision  ",
      "text/html": "<div>\n<style scoped>\n    .dataframe tbody tr th:only-of-type {\n        vertical-align: middle;\n    }\n\n    .dataframe tbody tr th {\n        vertical-align: top;\n    }\n\n    .dataframe thead th {\n        text-align: right;\n    }\n</style>\n<table border=\"1\" class=\"dataframe\">\n  <thead>\n    <tr style=\"text-align: right;\">\n      <th></th>\n      <th>door</th>\n      <th>ladybug</th>\n      <th>pain</th>\n      <th>blurriness</th>\n    </tr>\n  </thead>\n  <tbody>\n    <tr>\n      <th>0</th>\n      <td>A construction used to divide two rooms, tempo...</td>\n      <td>small flying insect, typically red with black ...</td>\n      <td>A feeling of physical or mental distress</td>\n      <td>sight out of focus</td>\n    </tr>\n    <tr>\n      <th>1</th>\n      <td>It's an opening, it can be opened or closed.</td>\n      <td>It is an insect, it has wings, red with black ...</td>\n      <td>It is a feeling, physical or emotional. It is ...</td>\n      <td>It is the absence of definite borders, shapele...</td>\n    </tr>\n    <tr>\n      <th>2</th>\n      <td>An object that divide two room, closing an hol...</td>\n      <td>An insect that can fly. It has red or orange c...</td>\n      <td>A felling that couscious beings can experince ...</td>\n      <td>A sensation felt when you can't see clearly th...</td>\n    </tr>\n    <tr>\n      <th>3</th>\n      <td>Usable for access from one area to another</td>\n      <td>Small insect with a red back</td>\n      <td>Concept that describes a suffering living being</td>\n      <td>Lack of sharpness</td>\n    </tr>\n    <tr>\n      <th>4</th>\n      <td>Structure that delimits an area and allows acc...</td>\n      <td>Small round flying insect</td>\n      <td>Feeling of physical discomfort</td>\n      <td>Characteristic of lack of clarity or precision</td>\n    </tr>\n  </tbody>\n</table>\n</div>"
     },
     "execution_count": 26,
     "metadata": {},
     "output_type": "execute_result"
    }
   ],
   "source": [
    "definitions = pd.read_csv('resources/definitions.tsv', sep='\\t')\n",
    "\n",
    "# remove index from the dataframe (for each row it is the first element)\n",
    "definitions = definitions.iloc[:, 1:]\n",
    "definitions.head()"
   ],
   "metadata": {
    "collapsed": false,
    "ExecuteTime": {
     "end_time": "2024-04-23T11:56:49.588752900Z",
     "start_time": "2024-04-23T11:56:49.573725700Z"
    }
   },
   "id": "e565075752925fbb"
  },
  {
   "cell_type": "code",
   "execution_count": 27,
   "outputs": [],
   "source": [
    "# convert the dataframe to a dictionary for easier access\n",
    "definitions_dict: Dict[str, List[str]] = {}\n",
    "for column in definitions.columns:\n",
    "    definitions_dict[column] = definitions[column].tolist()"
   ],
   "metadata": {
    "collapsed": false,
    "ExecuteTime": {
     "end_time": "2024-04-23T11:56:49.617738400Z",
     "start_time": "2024-04-23T11:56:49.589781600Z"
    }
   },
   "id": "f7cc058805ea9006"
  },
  {
   "cell_type": "code",
   "execution_count": 28,
   "outputs": [
    {
     "name": "stdout",
     "output_type": "stream",
     "text": [
      "- DOOR: \n",
      "\tA construction used to divide two rooms, temporarily closing the passage between them\n",
      "- LADYBUG: \n",
      "\tsmall flying insect, typically red with black spots with six legs\n",
      "- PAIN: \n",
      "\tA feeling of physical or mental distress\n",
      "- BLURRINESS: \n",
      "\tsight out of focus\n"
     ]
    }
   ],
   "source": [
    "# print every word and one of its definitions\n",
    "for word in definitions_dict:\n",
    "    print(f'- {word.upper()}: \\n\\t{definitions_dict[word][0]}')"
   ],
   "metadata": {
    "collapsed": false,
    "ExecuteTime": {
     "end_time": "2024-04-23T11:56:49.648957200Z",
     "start_time": "2024-04-23T11:56:49.605740800Z"
    }
   },
   "id": "7c73b36e75d51850"
  },
  {
   "cell_type": "markdown",
   "source": [
    "### Function to calculate the signature of a definition\n",
    "\n",
    "For each word, the signature is a list of words that are present in the definitions of the word. The words are lemmatized and the punctuation and stop words are removed."
   ],
   "metadata": {
    "collapsed": false
   },
   "id": "11a0ed943058e817"
  },
  {
   "cell_type": "code",
   "execution_count": 29,
   "outputs": [],
   "source": [
    "lemmatizer = WordNetLemmatizer()\n",
    "\n",
    "def clean_sentence(sentence: str) -> List[str]:\n",
    "    # convert to list of words\n",
    "    word_list = sentence.split()\n",
    "    # convert to lower case\n",
    "    word_list = [word.lower() for word in word_list]\n",
    "    # tokenize the words and remove punctuation\n",
    "    tokenizer = RegexpTokenizer(r'\\w+')\n",
    "    word_list = tokenizer.tokenize(' '.join(word_list))\n",
    "    # remove stop words using the nltk stop words list\n",
    "    word_list = [word for word in word_list if word not in stopwords.words('english')]\n",
    "    # lemmatize the words\n",
    "    word_list = [lemmatizer.lemmatize(word) for word in word_list]\n",
    "    return word_list"
   ],
   "metadata": {
    "collapsed": false,
    "ExecuteTime": {
     "end_time": "2024-04-23T11:56:49.713179700Z",
     "start_time": "2024-04-23T11:56:49.622738800Z"
    }
   },
   "id": "5401e697a743a6a5"
  },
  {
   "cell_type": "markdown",
   "source": [
    "### Function to get the synsets of the most frequent words in a definition\n",
    "\n",
    "Extract synset of 10 most frequent words in a definition. The definition is considered as a signature, as calculated by the `clean_sentence` function."
   ],
   "metadata": {
    "collapsed": false
   },
   "id": "f1a424db8fb5d410"
  },
  {
   "cell_type": "code",
   "execution_count": 30,
   "outputs": [],
   "source": [
    "def get_synsets_for_word(signature: List[str]) -> List[Synset]:\n",
    "    # calculate words frequency for a definition signature\n",
    "    word_frequency = Counter(signature)\n",
    "    most_common_words: List[Tuple] = word_frequency.most_common(10)\n",
    "    \n",
    "    # get only nouns from most common words\n",
    "    most_common_nouns = [word_tuple for word_tuple in most_common_words if \n",
    "                         wn.synsets(word_tuple[0]) and wn.synsets(word_tuple[0])[0].pos() == 'n']\n",
    "    \n",
    "    print(most_common_nouns) # TODO: remove\n",
    "    \n",
    "    # get the first synset for each noun\n",
    "    synsets: List[Synset] = [wn.synsets(word_tuple[0])[0] for word_tuple in most_common_nouns]\n",
    "    return synsets"
   ],
   "metadata": {
    "collapsed": false,
    "ExecuteTime": {
     "end_time": "2024-04-23T11:56:49.744947400Z",
     "start_time": "2024-04-23T11:56:49.637948100Z"
    }
   },
   "id": "feaa5efcf095a0aa"
  },
  {
   "cell_type": "markdown",
   "source": [
    "Esample: get synsets starting from the first definition of the word 'door'"
   ],
   "metadata": {
    "collapsed": false
   },
   "id": "24bc827cb897f798"
  },
  {
   "cell_type": "code",
   "execution_count": 31,
   "outputs": [
    {
     "name": "stdout",
     "output_type": "stream",
     "text": [
      "['construction', 'used', 'divide', 'two', 'room', 'temporarily', 'closing', 'passage']\n",
      "[('construction', 1), ('divide', 1), ('two', 1), ('room', 1), ('closing', 1), ('passage', 1)]\n"
     ]
    },
    {
     "data": {
      "text/plain": "[Synset('construction.n.01'),\n Synset('divide.n.01'),\n Synset('two.n.01'),\n Synset('room.n.01'),\n Synset('shutting.n.01'),\n Synset('passage.n.01')]"
     },
     "execution_count": 31,
     "metadata": {},
     "output_type": "execute_result"
    }
   ],
   "source": [
    "door_def_1 = definitions_dict['door'][0]\n",
    "signature = clean_sentence(door_def_1)\n",
    "print(signature)\n",
    "get_synsets_for_word(signature)"
   ],
   "metadata": {
    "collapsed": false,
    "ExecuteTime": {
     "end_time": "2024-04-23T11:56:49.764948800Z",
     "start_time": "2024-04-23T11:56:49.652949500Z"
    }
   },
   "id": "23078ed7d5089db1"
  },
  {
   "cell_type": "markdown",
   "source": [
    "### Testing method\n",
    "Takes a callable function and applies it to the all the words and its definitions to find the initial word."
   ],
   "metadata": {
    "collapsed": false
   },
   "id": "a80829dcffe7f2a1"
  },
  {
   "cell_type": "code",
   "execution_count": 32,
   "outputs": [],
   "source": [
    "def test_method(method):\n",
    "    for word in definitions_dict:\n",
    "        print(f'- {word.upper()}:')\n",
    "        for definition in definitions_dict[word]:\n",
    "            print(f'\\t- {definition}')\n",
    "            word_found = method(definition)\n",
    "            print(f'\\t\\t- {word_found}')"
   ],
   "metadata": {
    "collapsed": false,
    "ExecuteTime": {
     "end_time": "2024-04-23T11:56:49.764948800Z",
     "start_time": "2024-04-23T11:56:49.669950300Z"
    }
   },
   "id": "29cbdfa44d8ec8aa"
  },
  {
   "cell_type": "markdown",
   "source": [
    "### Approach 1\n",
    "\n",
    "Explore all wordnet Synsets and find the synset with maximum overlap between definition signature and synset signature\n",
    "\n",
    "Note: this approach is very slow and not recommended. Part of the results are saved in the file `results/approach_1.txt`"
   ],
   "metadata": {
    "collapsed": false
   },
   "id": "8f385ead946dc03f"
  },
  {
   "cell_type": "code",
   "outputs": [],
   "source": [
    "def get_synset_signature(synset: Synset) -> List[str]:\n",
    "    \"\"\"\n",
    "    Get the signature of a synset, which is the concatenation of the gloss and examples of the synset after cleaning (lowercase, lemmatization, punctuation removal, and stop words removal)\n",
    "    :param synset: the synset for which to get the signature\n",
    "    :return: the signature of the synset in the form of a list of words\n",
    "    \"\"\"\n",
    "    \n",
    "    gloss: List[str] = synset.definition().split()\n",
    "    examples: List[str] = \" \".join(synset.examples()).split()\n",
    "    synset_signature = clean_sentence(\" \".join(gloss + examples))\n",
    "    return synset_signature\n",
    "\n",
    "def approach_1(definition: str) -> Synset:\n",
    "    \"\"\"\n",
    "    Get the synset with the maximum overlap between the definition signature and the synset signature in WordNet.\n",
    "    :param definition: the definition for which to find the synset \n",
    "    :return: the synset with the maximum overlap\n",
    "    \"\"\"\n",
    "    \n",
    "    max_overlap = 0\n",
    "    max_overlap_synset = None\n",
    "    signature = clean_sentence(definition)\n",
    "    # for each synset in wordnet\n",
    "    for synset in wn.all_synsets():\n",
    "        # get the signature of the synset\n",
    "        synset_signature = get_synset_signature(synset)\n",
    "        # calculate the overlap between the definition signature and the synset signature\n",
    "        overlap = len(set(signature).intersection(set(synset_signature)))\n",
    "        # if the overlap is greater than the maximum overlap, update the maximum overlap and the synset\n",
    "        if overlap > max_overlap:\n",
    "            max_overlap = overlap\n",
    "            max_overlap_synset = synset\n",
    "    return max_overlap_synset"
   ],
   "metadata": {
    "collapsed": false,
    "ExecuteTime": {
     "end_time": "2024-04-23T11:56:49.765949200Z",
     "start_time": "2024-04-23T11:56:49.686948900Z"
    }
   },
   "id": "422f263fab25664",
   "execution_count": 33
  },
  {
   "cell_type": "code",
   "outputs": [],
   "source": [
    "# test_method(approach_1)"
   ],
   "metadata": {
    "collapsed": false,
    "ExecuteTime": {
     "end_time": "2024-04-23T11:56:49.767947900Z",
     "start_time": "2024-04-23T11:56:49.699948200Z"
    }
   },
   "id": "df1fd676573410db",
   "execution_count": 34
  },
  {
   "cell_type": "markdown",
   "source": [
    "### Approach 2\n",
    "\n",
    "Starting from the most general synset (of a noun) explore the WordNet graph following the branch with maximum similarity between the embedded definition signature and the embedded synset signature."
   ],
   "metadata": {
    "collapsed": false
   },
   "id": "84924f126aed500d"
  },
  {
   "cell_type": "code",
   "outputs": [],
   "source": [
    "def embed_sentence(sentence: str) -> Doc:\n",
    "    \"\"\"\n",
    "    Embed a sentence using the SpaCy model\n",
    "    :param sentence: the sentence to embed as a string\n",
    "    :return: the embedded sentence as a SpaCy Doc\n",
    "    \"\"\"\n",
    "    sentence = \" \".join(clean_sentence(sentence))\n",
    "    return embedder(sentence)"
   ],
   "metadata": {
    "collapsed": false,
    "ExecuteTime": {
     "end_time": "2024-04-23T11:56:49.768948600Z",
     "start_time": "2024-04-23T11:56:49.717948200Z"
    }
   },
   "id": "8328455ed2ef455d",
   "execution_count": 35
  },
  {
   "cell_type": "code",
   "outputs": [],
   "source": [
    "def get_synset_embedding(synset: Synset) -> Doc:\n",
    "    \"\"\"\n",
    "    Get the embedding of a synset by concatenating the lemma names, gloss, and examples of the synset and embedding the resulting text\n",
    "    :param synset: the WordNet Synset for which to get the embedding\n",
    "    :return: the embedding of the synset as a SpaCy Doc\n",
    "    \"\"\"\n",
    "    # Concatenate the lemma names to form a text representation of the synset\n",
    "    synset_lemmas = ' '.join(lemma.name().replace('_', ' ') for lemma in synset.lemmas())\n",
    "    synset_gloss = synset.definition()\n",
    "    synset_examples = ' '.join(example for example in synset.examples())\n",
    "    synset_signature = synset_lemmas + ' ' + synset_gloss + ' ' + synset_examples\n",
    "\n",
    "    # Create a Doc from the synset text\n",
    "    synset_doc = embedder(\" \".join(clean_sentence(synset_signature)))\n",
    "\n",
    "    return synset_doc"
   ],
   "metadata": {
    "collapsed": false,
    "ExecuteTime": {
     "end_time": "2024-04-23T11:56:49.769950600Z",
     "start_time": "2024-04-23T11:56:49.733947800Z"
    }
   },
   "id": "860a69ea885b94f6",
   "execution_count": 36
  },
  {
   "cell_type": "markdown",
   "source": [
    "Quick check of similarity between the 'door' word embedding and the 'door.n.01' synset embedding. The similarity should be high, because we are exploring the WordNet graph looking for synsets that are similar to the word."
   ],
   "metadata": {
    "collapsed": false
   },
   "id": "96baace935fab27f"
  },
  {
   "cell_type": "code",
   "outputs": [
    {
     "name": "stdout",
     "output_type": "stream",
     "text": [
      "Similarity between word embedding and synset embedding 0.8198888470468051\n"
     ]
    }
   ],
   "source": [
    "door_synset = wn.synsets('door')[0]\n",
    "door_synset_embedding = get_synset_embedding(door_synset)\n",
    "door_word_embedding = embedder('door')\n",
    "similarity = door_synset_embedding.similarity(door_word_embedding)\n",
    "\n",
    "# cosine similarity between the word and the synset\n",
    "print(f\"Similarity between word embedding and synset embedding {similarity}\")"
   ],
   "metadata": {
    "collapsed": false,
    "ExecuteTime": {
     "end_time": "2024-04-23T11:56:49.870948200Z",
     "start_time": "2024-04-23T11:56:49.748949200Z"
    }
   },
   "id": "9c8071d5cabd27f5",
   "execution_count": 37
  },
  {
   "cell_type": "code",
   "outputs": [],
   "source": [
    "def approach_2(definition: str) -> Synset:\n",
    "    \"\"\"\n",
    "    Find the best synset for a given definition by exploring the WordNet graph starting from the most general synset of a noun (entity.n.01) and following the branch with the highest similarity between the definition embedding and the synset embedding.\n",
    "    :param definition: the definition for which to find the best synset\n",
    "    :return: the synset for which there is the highest similarity between the definition embedding and the synset embedding\n",
    "    \"\"\"\n",
    "    \n",
    "    # Compute the target definition embedding\n",
    "    target_doc = embed_sentence(definition)\n",
    "\n",
    "    # synset for the current node in the graph, initialized to the most general synset of a noun\n",
    "    current_synset = wn.synset('entity.n.01')\n",
    "    # flag to check if the current synset is a leaf\n",
    "    reached_leaf = False\n",
    "    # holds the highest similarity between the hyponyms of current synset and the target definition\n",
    "    highest_similarity = 0\n",
    "    # similarity between the previous best synset and the target definition\n",
    "    previous_similarity = -1\n",
    "    # similarity between the current best synset and the target definition \n",
    "    current_similarity = 0\n",
    "    # hyponym with the highest similarity to the target definition\n",
    "    best_hyponym = None\n",
    "    \n",
    "    # we look for new best synset with a similarity increase of at least the threshold\n",
    "    threshold = 0.00000001\n",
    "\n",
    "    while not reached_leaf and current_similarity >= previous_similarity + threshold:\n",
    "        # get the hyponyms of the current synset\n",
    "        hyponyms = current_synset.hyponyms()\n",
    "\n",
    "        # if the current synset has no hyponyms, set the reached_leaf flag to True\n",
    "        if not hyponyms:\n",
    "            reached_leaf = True\n",
    "        else: # look for the hyponym with the highest similarity to the target definition\n",
    "            for hyponym in hyponyms:\n",
    "                # get the embedding of the hyponym\n",
    "                hyponym_embedding = get_synset_embedding(hyponym)\n",
    "        \n",
    "                # compute the similarity between the target definition and the current hyponym\n",
    "                hyponym_similarity = target_doc.similarity(hyponym_embedding)\n",
    "                \n",
    "                # if the similarity is greater than the highest similarity, update the highest similarity and the current synset\n",
    "                if hyponym_similarity > highest_similarity:\n",
    "                    highest_similarity = hyponym_similarity\n",
    "                    best_hyponym = hyponym\n",
    "            # now we found the best hyponym for the current synset\n",
    "            previous_similarity = current_similarity\n",
    "            current_synset = best_hyponym\n",
    "            current_similarity = highest_similarity\n",
    "\n",
    "    return current_synset"
   ],
   "metadata": {
    "collapsed": false,
    "ExecuteTime": {
     "end_time": "2024-04-23T11:56:49.882948300Z",
     "start_time": "2024-04-23T11:56:49.782948300Z"
    }
   },
   "id": "faea877bcd6f2ebb",
   "execution_count": 38
  },
  {
   "cell_type": "code",
   "outputs": [
    {
     "name": "stdout",
     "output_type": "stream",
     "text": [
      "- DOOR:\n",
      "\t- A construction used to divide two rooms, temporarily closing the passage between them\n",
      "\t\t- Synset('relation.n.01')\n",
      "\t- It's an opening, it can be opened or closed.\n",
      "\t\t- Synset('diagonal.n.04')\n",
      "\t- An object that divide two room, closing an hole in a wall. You can open the door to let people enter or get out.\n",
      "\t\t- Synset('change.n.06')\n",
      "\t- Usable for access from one area to another\n",
      "\t\t- Synset('communication.n.03')\n",
      "\t- Structure that delimits an area and allows access to it\n",
      "\t\t- Synset('abstraction.n.06')\n",
      "\t- an object that is used to block passage but can be moved to pass\n",
      "\t\t- Synset('abstraction.n.06')\n",
      "\t- An assembled object, historically made of wood, but also of iron or other materials, used to separate rooms in a building. Sometimes opened by moving a handle, or pushed, or locked and requires some means to unlock. it consists of the main body, the hinges on which it rotates, and a lock.\n",
      "\t\t- Synset('abstraction.n.06')\n",
      "\t- object used to go through rooms separate by a wall, can be opened or closed\n",
      "\t\t- Synset('change.n.06')\n",
      "\t- something that can be opened, in order to access to another place\n",
      "\t\t- Synset('publication.n.03')\n",
      "\t- the access to a room\n",
      "\t\t- Synset('security_blanket.n.01')\n",
      "\t- an object that allows access to a room\n",
      "\t\t- Synset('space.n.01')\n",
      "\t- Enclosing of an entrance that blocks off intruders as well as weather conditions. Can usually be locked with a key of some sort. At times it presents a small opening through which one can see outside.\n",
      "\t\t- Synset('position.n.07')\n",
      "\t- An object, that allows people to get inside or outside a chamber. Usually it's made with a mechanism that enables a key, which can lock or unlock it.\n",
      "\t\t- Synset('phase_space.n.01')\n",
      "\t- A wall that can be opened and closed at will\n",
      "\t\t- Synset('diagonal.n.04')\n",
      "\t- A barrier with a mechanism to block or allow access to a room\n",
      "\t\t- Synset('phase_space.n.01')\n",
      "\t- The way to let people enter or exit a room\n",
      "\t\t- Synset('security_blanket.n.01')\n",
      "\t- Artificial object usually made of a hinge, main body and handle. It allows passage between two spaces by being opened. \n",
      "\t\t- Synset('position.n.07')\n",
      "\t- An object that opens and closes and allows you to enter or exit a place\n",
      "\t\t- Synset('position.n.07')\n",
      "\t- Element of the room that allows or blocks the passage through a wall.\n",
      "\t\t- Synset('abstraction.n.06')\n",
      "\t- object to cross to access a limited place \n",
      "\t\t- Synset('abstraction.n.06')\n",
      "\t- A rectangular object (usually made out of wood) use to lock access to a room or a house.\n",
      "\t\t- Synset('diagonal.n.04')\n",
      "\t- Entrance and exit to a space, building or room.\n",
      "\t\t- Synset('standing_room.n.01')\n",
      "\t- An object that allows the connection between two spaces\n",
      "\t\t- Synset('relation.n.01')\n",
      "\t- An architecture to make a person pass through a new space and leave another one\n",
      "\t\t- Synset('change.n.06')\n",
      "\t- entance  to a building or room\n",
      "\t\t- Synset('change.n.06')\n",
      "\t- An object that opens or close the entrance of a room\n",
      "\t\t- Synset('headroom.n.01')\n",
      "\t- Object that lock the entrance of a house\n",
      "\t\t- Synset('change.n.06')\n",
      "\t- A point of access to a space. Physically, an object which blocks the access to a room or a space.\n",
      "\t\t- Synset('absolute_space.n.01')\n",
      "\t- opening that allows something to go in or out\n",
      "\t\t- Synset('jimdandy.n.02')\n",
      "\t- Auxiliary structure built on blank spaces of walls and used to access different areas of building. \n",
      "\t\t- Synset('abstraction.n.06')\n",
      "- LADYBUG:\n",
      "\t- small flying insect, typically red with black spots with six legs\n",
      "\t\t- Synset('anteriority.n.01')\n",
      "\t- It is an insect, it has wings, red with black dots. In many cultures it is a  symbol for good luck\n",
      "\t\t- Synset('radical.n.04')\n",
      "\t- An insect that can fly. It has red or orange color with black dots \n",
      "\t\t- Synset('stinker.n.02')\n",
      "\t- Small insect with a red back\n",
      "\t\t- Synset('cordage.n.01')\n",
      "\t- Small round flying insect\n",
      "\t\t- Synset('coincidence.n.02')\n",
      "\t- a small flying insect of the beatle family, tendentially colored by red. \n",
      "\t\t- Synset('detail.n.02')\n",
      "\t- Small insect, insectivore, used for natural pest control. Red, with black dots on its back and a black head. Flies and it is considered to bring luck\n",
      "\t\t- Synset('abstraction.n.06')\n",
      "\t- small red insect with black dots,  brings luck in some culture.\n",
      "\t\t- Synset('cheerfulness.n.01')\n",
      "\t- a small insect, red with black dots\n",
      "\t\t- Synset('diagonal.n.04')\n",
      "\t- small insect with red or yellow dotted coat\n",
      "\t\t- Synset('diagonal.n.04')\n",
      "\t- small flying insect, usually red with black dots\n",
      "\t\t- Synset('diagonal.n.04')\n",
      "\t- Tiny flying insect characterised by the red black-dotted coat. Usually considered a good omen.\n",
      "\t\t- Synset('detail.n.02')\n",
      "\t- A small red insect, with black spots that lives on the planet. usually it's associated with good luck if it falls on a human being.\n",
      "\t\t- Synset('change.n.06')\n",
      "\t- A small red insect with black dots\n",
      "\t\t- Synset('diagonal.n.04')\n",
      "\t- A red insect with black spots\n",
      "\t\t- Synset('whacker.n.01')\n",
      "\t- An insect that have black small dots on its back\n",
      "\t\t- Synset('diagonal.n.04')\n",
      "\t- Harmless flying insect characterized by black dots on its red wings. Generally associated with good luck.\n",
      "\t\t- Synset('abstraction.n.06')\n",
      "\t- A small flying insect characterized by a red color and black spots, it is said to bring good luck\n",
      "\t\t- Synset('whacker.n.01')\n",
      "\t- Small round insect, usually red with black dots. Generally linked to good luck.\n",
      "\t\t- Synset('probability.n.01')\n",
      "\t- Small insect characterized by red color and black dots\n",
      "\t\t- Synset('abstraction.n.06')\n",
      "\t- A small round insect usually red and black with dots that flies on flowers\n",
      "\t\t- Synset('diagonal.n.04')\n",
      "\t- Red small bug with black spot with a round shape.\n",
      "\t\t- Synset('diagonal.n.04')\n",
      "\t- A small insect usually characterized by red color and black dots  \n",
      "\t\t- Synset('abstraction.n.06')\n",
      "\t- An insect that can fly wich brings luck to a person\n",
      "\t\t- Synset('thing.n.08')\n",
      "\t- A small red insect with black dots. \n",
      "\t\t- Synset('diagonal.n.04')\n",
      "\t- An insect with a red black-dotted back\n",
      "\t\t- Synset('diagonal.n.04')\n",
      "\t- Red insect with black dots on the back\n",
      "\t\t- Synset('whacker.n.01')\n",
      "\t- A small insect known for its red wings with black dots\n",
      "\t\t- Synset('abstraction.n.06')\n",
      "\t- a bug with colored dots\n",
      "\t\t- Synset('stinker.n.02')\n",
      "\t- Flying, dome-like structured insect, usually red colored with black-dotted pattern\n",
      "\t\t- Synset('abstraction.n.06')\n",
      "- PAIN:\n",
      "\t- A feeling of physical or mental distress\n",
      "\t\t- Synset('physical_entity.n.01')\n",
      "\t- It is a feeling, physical or emotional. It is bad, it hurt. \n",
      "\t\t- Synset('horror.n.02')\n",
      "\t- A felling that couscious beings can experince when they suffer\n",
      "\t\t- Synset('manifestation.n.02')\n",
      "\t- Concept that describes a suffering living being\n",
      "\t\t- Synset('psychological_feature.n.01')\n",
      "\t- Feeling of physical discomfort\n",
      "\t\t- Synset('substance.n.04')\n",
      "\t- an unpleasant burning sensation\n",
      "\t\t- Synset('motivation.n.01')\n",
      "\t- A negative sensation felt by creatures. It can be of physical nature, if the body is damaged, or psychological.\n",
      "\t\t- Synset('substance.n.04')\n",
      "\t- feeling of physical pain caused by an injury or emotional pain caused by sadness\n",
      "\t\t- Synset('substance.n.04')\n",
      "\t- a sentiment that expresses sorrow\n",
      "\t\t- Synset('horror.n.02')\n",
      "\t- unpleasant sensation resulting from physical or emotional exertion\n",
      "\t\t- Synset('substance.n.04')\n",
      "\t- unpleasant physical or emotional sensation\n",
      "\t\t- Synset('physical_entity.n.01')\n",
      "\t- Feeling that occurs when something bad happens, either phisically or mentally to a being. It could result in light discomfort, up to loud cries.\n",
      "\t\t- Synset('horror.n.02')\n",
      "\t- A physical or emotional sensation that can bring discomfort or soreness to a person.\n",
      "\t\t- Synset('substance.n.04')\n",
      "\t- A feeling caused by physical or emotional harm\n",
      "\t\t- Synset('substance.n.04')\n",
      "\t- An unpleasant and harmful feeling\n",
      "\t\t- Synset('stinker.n.02')\n",
      "\t- A physical or emotional sensation that is unconfortable \n",
      "\t\t- Synset('physical_entity.n.01')\n",
      "\t- Feeling of uneasiness that causes physical or emotional harm. \n",
      "\t\t- Synset('substance.n.04')\n",
      "\t- A non-positive feeling that you feel for tangible or non-tangible situations\n",
      "\t\t- Synset('thing.n.12')\n",
      "\t- Feeling produced by natural and complex brain that is necessary to make the creature aware of physical or emotional/mental issues.\n",
      "\t\t- Synset('cognitive_factor.n.01')\n",
      "\t- unpleasant emotion associated with suffering\n",
      "\t\t- Synset('substance.n.04')\n",
      "\t- A emotion that can be felt when getting harmed or when our body want's to tell us that something isn't right.\n",
      "\t\t- Synset('security_blanket.n.01')\n",
      "\t- Kind of physical or emotional sensation felt in response to something harmful or emotionally damaging.\n",
      "\t\t- Synset('substance.n.04')\n",
      "\t- a feeling that causes discomfort to those who experience it\n",
      "\t\t- Synset('security_blanket.n.01')\n",
      "\t- Something that hurts a person emotionally or physically\n",
      "\t\t- Synset('security_blanket.n.01')\n",
      "\t- sickening sensation\n",
      "\t\t- Synset('motivation.n.01')\n",
      "\t- A bad physical or emotional feeling\n",
      "\t\t- Synset('substance.n.04')\n",
      "\t- Feeling when you get hurt\n",
      "\t\t- Synset('stinker.n.02')\n",
      "\t- The sensation of being hurt\n",
      "\t\t- Synset('horror.n.02')\n",
      "\t- very bad feeling\n",
      "\t\t- Synset('whacker.n.01')\n",
      "\t- negative sensation causing discomfort both physically and mentally. \n",
      "\t\t- Synset('substance.n.04')\n",
      "- BLURRINESS:\n",
      "\t- sight out of focus\n",
      "\t\t- Synset('change.n.06')\n",
      "\t- It is the absence of definite borders, shapelessness.\n",
      "\t\t- Synset('temporal_relation.n.01')\n",
      "\t- A sensation felt when you can't see clearly the border of something\n",
      "\t\t- Synset('horror.n.02')\n",
      "\t- Lack of sharpness\n",
      "\t\t- Synset('enough.n.01')\n",
      "\t- Characteristic of lack of clarity or precision\n",
      "\t\t- Synset('abstraction.n.06')\n",
      "\t- a sensation of blurring in the eyes. \"you see everything blurred\"\n",
      "\t\t- Synset('horror.n.02')\n",
      "\t- The inability to accurately perceive a certain kind of goal, whether physical or conceptual.\n",
      "\t\t- Synset('substance.n.04')\n",
      "\t- lack of memory, bad eye vision or unfocused image\n",
      "\t\t- Synset('motivation.n.01')\n",
      "\t- a condition thant makes what you are seeing not totally bright and clear\n",
      "\t\t- Synset('change.n.06')\n",
      "\t- a state of confusion resulting from physical exertion, the use of alcohol or drugs\n",
      "\t\t- Synset('abstraction.n.06')\n",
      "\t- a sense of confusion\n",
      "\t\t- Synset('horror.n.02')\n",
      "\t- Property of an object that is hard to make out or see. It usually happens after drug use or illness. Also a propery of a photograph that is out of focus.\n",
      "\t\t- Synset('change.n.06')\n",
      "\t- A condition that doesn't allow a person to see in a detailed way other people or objects in a close or far distance.\n",
      "\t\t- Synset('change.n.06')\n",
      "\t- The absence of clarity and defined borders in an image or visual \n",
      "\t\t- Synset('attribute.n.02')\n",
      "\t- A visual condition that blends details together, losing clarity\n",
      "\t\t- Synset('motivation.n.01')\n",
      "\t- A phenomenon that disrupts partially the vision of the person or of the camera\n",
      "\t\t- Synset('process.n.06')\n",
      "\t- State of indefiniteness. It is the state for which something that can be perceived is not perceived clearly or metaphorically it is the state of a ill defined concept. \n",
      "\t\t- Synset('substance.n.04')\n",
      "\t- A specific condition that makes something less visible. Often used in photographic context when the subject is not in focus\n",
      "\t\t- Synset('abstraction.n.06')\n",
      "\t- State that can be attributed to an image, to the natural eye or to a vision device, in which the borders are not clearly defined.\n",
      "\t\t- Synset('attribute.n.02')\n",
      "\t- characteristic of an undefined image, whose shapes and lines are hard to recognize\n",
      "\t\t- Synset('figure.n.06')\n",
      "\t- A phenomena that happens when something isn't visually clear, with colours that mix near the edges. It can happen on a picture or because of visual problems of the eye.\n",
      "\t\t- Synset('horror.n.02')\n",
      "\t- An effect that affect vision or images that confuses outlines and details making them hard to see.\n",
      "\t\t- Synset('measure.n.02')\n",
      "\t- A visual effect that makes not clear and hard to see something\n",
      "\t\t- Synset('jimdandy.n.02')\n",
      "\t- A visual effect which allows you not to see in a clear way objects \n",
      "\t\t- Synset('ballast.n.03')\n",
      "\t- a visual perception that confuses what you are looking at\n",
      "\t\t- Synset('personality.n.01')\n",
      "\t- A distorted vision\n",
      "\t\t- Synset('abstraction.n.06')\n",
      "\t- Condition of the eyes that can be corrected with eyeglasses\n",
      "\t\t- Synset('abstraction.n.06')\n",
      "\t- A faulty perception of a specific object which is perceived as not properly defined.\n",
      "\t\t- Synset('attribute.n.02')\n",
      "\t- blinding effect. increases with distance\n",
      "\t\t- Synset('abstraction.n.06')\n",
      "\t- Lack of texture and quality of image given by low focus\n",
      "\t\t- Synset('abstraction.n.06')\n"
     ]
    }
   ],
   "source": [
    "test_method(approach_2)"
   ],
   "metadata": {
    "collapsed": false,
    "ExecuteTime": {
     "end_time": "2024-04-23T11:57:10.991774200Z",
     "start_time": "2024-04-23T11:56:49.796949600Z"
    }
   },
   "id": "17c5524cb6cfe8c1",
   "execution_count": 39
  },
  {
   "cell_type": "markdown",
   "source": [
    "We can see that the results are not very good. The similarity between the definition and the synset is not high enough to find the correct word. This is probably due to the fact that we are starting from a very general synset and we cannot find enough information in so much general synsets to find the correct path and get closer to a more specific synset."
   ],
   "metadata": {
    "collapsed": false
   },
   "id": "45fe0c90e24b9f5"
  },
  {
   "cell_type": "markdown",
   "source": [
    "### Approach 3\n",
    "\n",
    "Measure the similarity between word embeddings in SpaCy vocabulary and definition embeddings and get the word (in SpaCy) with the highest similarity."
   ],
   "metadata": {
    "collapsed": false
   },
   "id": "6487752f33dbc825"
  },
  {
   "cell_type": "code",
   "execution_count": 40,
   "outputs": [],
   "source": [
    "def approach_3(definition: str) -> str:\n",
    "    \"\"\"\n",
    "    Find the word with the highest similarity to the input definition by comparing the definition embedding to all word embeddings in the SpaCy vocabulary.\n",
    "    :param definition: the definition for which to find the most similar word\n",
    "    :return: the word in the SpaCy vocabulary with the highest similarity to the input definition\n",
    "    \"\"\"\n",
    "    # embed the input definition\n",
    "    definition_doc = embed_sentence(definition)\n",
    "\n",
    "    max_similarity = -1\n",
    "    associated_word = None\n",
    "    \n",
    "    # calculate similarity between the input definition and all words in the vocabulary\n",
    "    for word_embedding in embedder.vocab:\n",
    "        # ignore stopwords and punctuation\n",
    "        if word_embedding.is_stop or word_embedding.is_punct:\n",
    "            continue\n",
    "        \n",
    "        # calculate similarity between the input definition and the current word\n",
    "        similarity = definition_doc.similarity(word_embedding)\n",
    "        \n",
    "        # update associated_word if similarity is higher\n",
    "        if similarity > max_similarity:\n",
    "            max_similarity = similarity\n",
    "            associated_word = word_embedding.text\n",
    "            \n",
    "    return associated_word"
   ],
   "metadata": {
    "collapsed": false,
    "ExecuteTime": {
     "end_time": "2024-04-23T11:57:11.012658200Z",
     "start_time": "2024-04-23T11:57:10.994781300Z"
    }
   },
   "id": "49af5cc2515dfd53"
  },
  {
   "cell_type": "code",
   "execution_count": 41,
   "outputs": [
    {
     "name": "stdout",
     "output_type": "stream",
     "text": [
      "- DOOR:\n",
      "\t- A construction used to divide two rooms, temporarily closing the passage between them\n",
      "\t\t- separate\n",
      "\t- It's an opening, it can be opened or closed.\n",
      "\t\t- opened\n",
      "\t- An object that divide two room, closing an hole in a wall. You can open the door to let people enter or get out.\n",
      "\t\t- inside\n",
      "\t- Usable for access from one area to another\n"
     ]
    },
    {
     "name": "stderr",
     "output_type": "stream",
     "text": [
      "C:\\Users\\Gianl\\AppData\\Local\\Temp\\ipykernel_17144\\1300944949.py:20: UserWarning: [W008] Evaluating Doc.similarity based on empty vectors.\n",
      "  similarity = definition_doc.similarity(word_embedding)\n"
     ]
    },
    {
     "name": "stdout",
     "output_type": "stream",
     "text": [
      "\t\t- usable\n",
      "\t- Structure that delimits an area and allows access to it\n",
      "\t\t- access\n",
      "\t- an object that is used to block passage but can be moved to pass\n",
      "\t\t- intended\n",
      "\t- An assembled object, historically made of wood, but also of iron or other materials, used to separate rooms in a building. Sometimes opened by moving a handle, or pushed, or locked and requires some means to unlock. it consists of the main body, the hinges on which it rotates, and a lock.\n",
      "\t\t- actuating\n",
      "\t- object used to go through rooms separate by a wall, can be opened or closed\n",
      "\t\t- enclosing\n",
      "\t- something that can be opened, in order to access to another place\n",
      "\t\t- place\n",
      "\t- the access to a room\n",
      "\t\t- room\n",
      "\t- an object that allows access to a room\n",
      "\t\t- allows\n",
      "\t- Enclosing of an entrance that blocks off intruders as well as weather conditions. Can usually be locked with a key of some sort. At times it presents a small opening through which one can see outside.\n",
      "\t\t- normally\n",
      "\t- An object, that allows people to get inside or outside a chamber. Usually it's made with a mechanism that enables a key, which can lock or unlock it.\n",
      "\t\t- allowing\n",
      "\t- A wall that can be opened and closed at will\n",
      "\t\t- closed\n",
      "\t- A barrier with a mechanism to block or allow access to a room\n",
      "\t\t- allowing\n",
      "\t- The way to let people enter or exit a room\n",
      "\t\t- way\n",
      "\t- Artificial object usually made of a hinge, main body and handle. It allows passage between two spaces by being opened. \n",
      "\t\t- allowing\n",
      "\t- An object that opens and closes and allows you to enter or exit a place\n",
      "\t\t- open\n",
      "\t- Element of the room that allows or blocks the passage through a wall.\n",
      "\t\t- block\n",
      "\t- object to cross to access a limited place \n",
      "\t\t- access\n",
      "\t- A rectangular object (usually made out of wood) use to lock access to a room or a house.\n",
      "\t\t- usable\n",
      "\t- Entrance and exit to a space, building or room.\n",
      "\t\t- space\n",
      "\t- An object that allows the connection between two spaces\n",
      "\t\t- allowing\n",
      "\t- An architecture to make a person pass through a new space and leave another one\n",
      "\t\t- particular\n",
      "\t- entance  to a building or room\n",
      "\t\t- room\n",
      "\t- An object that opens or close the entrance of a room\n",
      "\t\t- open\n",
      "\t- Object that lock the entrance of a house\n",
      "\t\t- entrance\n",
      "\t- A point of access to a space. Physically, an object which blocks the access to a room or a space.\n",
      "\t\t- space\n",
      "\t- opening that allows something to go in or out\n",
      "\t\t- somethin\n",
      "\t- Auxiliary structure built on blank spaces of walls and used to access different areas of building. \n",
      "\t\t- building\n",
      "- LADYBUG:\n",
      "\t- small flying insect, typically red with black spots with six legs\n",
      "\t\t- yellow\n",
      "\t- It is an insect, it has wings, red with black dots. In many cultures it is a  symbol for good luck\n",
      "\t\t- black\n",
      "\t- An insect that can fly. It has red or orange color with black dots \n",
      "\t\t- yellow\n",
      "\t- Small insect with a red back\n",
      "\t\t- yellow\n",
      "\t- Small round flying insect\n",
      "\t\t- small\n",
      "\t- a small flying insect of the beatle family, tendentially colored by red. \n",
      "\t\t- colored\n",
      "\t- Small insect, insectivore, used for natural pest control. Red, with black dots on its back and a black head. Flies and it is considered to bring luck\n",
      "\t\t- feather\n",
      "\t- small red insect with black dots,  brings luck in some culture.\n",
      "\t\t- black\n",
      "\t- a small insect, red with black dots\n",
      "\t\t- red\n",
      "\t- small insect with red or yellow dotted coat\n",
      "\t\t- yellow\n",
      "\t- small flying insect, usually red with black dots\n",
      "\t\t- yellow\n",
      "\t- Tiny flying insect characterised by the red black-dotted coat. Usually considered a good omen.\n",
      "\t\t- black\n",
      "\t- A small red insect, with black spots that lives on the planet. usually it's associated with good luck if it falls on a human being.\n",
      "\t\t- especially\n",
      "\t- A small red insect with black dots\n",
      "\t\t- red\n",
      "\t- A red insect with black spots\n",
      "\t\t- red\n",
      "\t- An insect that have black small dots on its back\n",
      "\t\t- black\n",
      "\t- Harmless flying insect characterized by black dots on its red wings. Generally associated with good luck.\n",
      "\t\t- resembling\n",
      "\t- A small flying insect characterized by a red color and black spots, it is said to bring good luck\n",
      "\t\t- bright\n",
      "\t- Small round insect, usually red with black dots. Generally linked to good luck.\n",
      "\t\t- usually\n",
      "\t- Small insect characterized by red color and black dots\n",
      "\t\t- colored\n",
      "\t- A small round insect usually red and black with dots that flies on flowers\n",
      "\t\t- yellow\n",
      "\t- Red small bug with black spot with a round shape.\n",
      "\t\t- yellow\n",
      "\t- A small insect usually characterized by red color and black dots  \n",
      "\t\t- colored\n",
      "\t- An insect that can fly wich brings luck to a person\n",
      "\t\t- fly\n",
      "\t- A small red insect with black dots. \n",
      "\t\t- red\n",
      "\t- An insect with a red black-dotted back\n",
      "\t\t- yellow\n",
      "\t- Red insect with black dots on the back\n",
      "\t\t- red\n",
      "\t- A small insect known for its red wings with black dots\n",
      "\t\t- black\n",
      "\t- a bug with colored dots\n",
      "\t\t- dot\n",
      "\t- Flying, dome-like structured insect, usually red colored with black-dotted pattern\n",
      "\t\t- colored\n",
      "- PAIN:\n",
      "\t- A feeling of physical or mental distress\n",
      "\t\t- physical\n",
      "\t- It is a feeling, physical or emotional. It is bad, it hurt. \n",
      "\t\t- feeling\n",
      "\t- A felling that couscious beings can experince when they suffer\n",
      "\t\t- suffering\n",
      "\t- Concept that describes a suffering living being\n",
      "\t\t- living\n",
      "\t- Feeling of physical discomfort\n",
      "\t\t- soreness\n",
      "\t- an unpleasant burning sensation\n",
      "\t\t- burning\n",
      "\t- A negative sensation felt by creatures. It can be of physical nature, if the body is damaged, or psychological.\n",
      "\t\t- nature\n",
      "\t- feeling of physical pain caused by an injury or emotional pain caused by sadness\n",
      "\t\t- pain\n",
      "\t- a sentiment that expresses sorrow\n",
      "\t\t- express\n",
      "\t- unpleasant sensation resulting from physical or emotional exertion\n",
      "\t\t- physical\n",
      "\t- unpleasant physical or emotional sensation\n",
      "\t\t- emotional\n",
      "\t- Feeling that occurs when something bad happens, either phisically or mentally to a being. It could result in light discomfort, up to loud cries.\n",
      "\t\t- sickening\n",
      "\t- A physical or emotional sensation that can bring discomfort or soreness to a person.\n",
      "\t\t- soreness\n",
      "\t- A feeling caused by physical or emotional harm\n",
      "\t\t- physical\n",
      "\t- An unpleasant and harmful feeling\n",
      "\t\t- unpleasant\n",
      "\t- A physical or emotional sensation that is unconfortable \n",
      "\t\t- emotional\n",
      "\t- Feeling of uneasiness that causes physical or emotional harm. \n",
      "\t\t- uneasiness\n",
      "\t- A non-positive feeling that you feel for tangible or non-tangible situations\n",
      "\t\t- non\n",
      "\t- Feeling produced by natural and complex brain that is necessary to make the creature aware of physical or emotional/mental issues.\n",
      "\t\t- physical\n",
      "\t- unpleasant emotion associated with suffering\n",
      "\t\t- suffering\n",
      "\t- A emotion that can be felt when getting harmed or when our body want's to tell us that something isn't right.\n",
      "\t\t- somethin\n",
      "\t- Kind of physical or emotional sensation felt in response to something harmful or emotionally damaging.\n",
      "\t\t- emotionally\n",
      "\t- a feeling that causes discomfort to those who experience it\n",
      "\t\t- soreness\n",
      "\t- Something that hurts a person emotionally or physically\n",
      "\t\t- physically\n",
      "\t- sickening sensation\n",
      "\t\t- sensation\n",
      "\t- A bad physical or emotional feeling\n",
      "\t\t- emotional\n",
      "\t- Feeling when you get hurt\n",
      "\t\t- feel\n",
      "\t- The sensation of being hurt\n",
      "\t\t- hurt\n",
      "\t- very bad feeling\n",
      "\t\t- bad\n",
      "\t- negative sensation causing discomfort both physically and mentally. \n",
      "\t\t- physically\n",
      "- BLURRINESS:\n",
      "\t- sight out of focus\n",
      "\t\t- focus\n",
      "\t- It is the absence of definite borders, shapelessness.\n",
      "\t\t- border\n",
      "\t- A sensation felt when you can't see clearly the border of something\n",
      "\t\t- somethin\n",
      "\t- Lack of sharpness\n",
      "\t\t- lack\n",
      "\t- Characteristic of lack of clarity or precision\n",
      "\t\t- lack\n",
      "\t- a sensation of blurring in the eyes. \"you see everything blurred\"\n",
      "\t\t- sight\n",
      "\t- The inability to accurately perceive a certain kind of goal, whether physical or conceptual.\n",
      "\t\t- particular\n",
      "\t- lack of memory, bad eye vision or unfocused image\n",
      "\t\t- perception\n",
      "\t- a condition thant makes what you are seeing not totally bright and clear\n",
      "\t\t- ’cause\n",
      "\t- a state of confusion resulting from physical exertion, the use of alcohol or drugs\n",
      "\t\t- substance\n",
      "\t- a sense of confusion\n",
      "\t\t- sense\n",
      "\t- Property of an object that is hard to make out or see. It usually happens after drug use or illness. Also a propery of a photograph that is out of focus.\n",
      "\t\t- understand\n",
      "\t- A condition that doesn't allow a person to see in a detailed way other people or objects in a close or far distance.\n",
      "\t\t- possible\n",
      "\t- The absence of clarity and defined borders in an image or visual \n",
      "\t\t- characteristic\n",
      "\t- A visual condition that blends details together, losing clarity\n",
      "\t\t- blinding\n",
      "\t- A phenomenon that disrupts partially the vision of the person or of the camera\n",
      "\t\t- perception\n",
      "\t- State of indefiniteness. It is the state for which something that can be perceived is not perceived clearly or metaphorically it is the state of a ill defined concept. \n",
      "\t\t- consequence\n",
      "\t- A specific condition that makes something less visible. Often used in photographic context when the subject is not in focus\n",
      "\t\t- particular\n",
      "\t- State that can be attributed to an image, to the natural eye or to a vision device, in which the borders are not clearly defined.\n",
      "\t\t- blinding\n",
      "\t- characteristic of an undefined image, whose shapes and lines are hard to recognize\n",
      "\t\t- characteristic\n",
      "\t- A phenomena that happens when something isn't visually clear, with colours that mix near the edges. It can happen on a picture or because of visual problems of the eye.\n",
      "\t\t- visually\n",
      "\t- An effect that affect vision or images that confuses outlines and details making them hard to see.\n",
      "\t\t- understand\n",
      "\t- A visual effect that makes not clear and hard to see something\n",
      "\t\t- understand\n",
      "\t- A visual effect which allows you not to see in a clear way objects \n",
      "\t\t- possible\n",
      "\t- a visual perception that confuses what you are looking at\n",
      "\t\t- visual\n",
      "\t- A distorted vision\n",
      "\t\t- vision\n",
      "\t- Condition of the eyes that can be corrected with eyeglasses\n",
      "\t\t- eye\n",
      "\t- A faulty perception of a specific object which is perceived as not properly defined.\n",
      "\t\t- particular\n",
      "\t- blinding effect. increases with distance\n",
      "\t\t- effect\n",
      "\t- Lack of texture and quality of image given by low focus\n",
      "\t\t- blinding\n"
     ]
    }
   ],
   "source": [
    "test_method(approach_3)"
   ],
   "metadata": {
    "collapsed": false,
    "ExecuteTime": {
     "end_time": "2024-04-23T11:57:18.212715900Z",
     "start_time": "2024-04-23T11:57:11.007687800Z"
    }
   },
   "id": "4b97863fd43177e9"
  },
  {
   "cell_type": "markdown",
   "source": [
    "### Approach 4\n",
    "\n",
    " - Get the most frequent words in the definition (`mfw`)\n",
    " - Get synsets of `mfw`, its hyponims and hyperonims (`mfw_synsets`)\n",
    " - Calculate signature of `mfw_synsets` (`mfw_synsets_signature`)\n",
    " - Get synsets from `mfw_synsets` with the best overlap between `mfw_synsets_signature` and definition signature"
   ],
   "metadata": {
    "collapsed": false
   },
   "id": "f4d917c8eb13c64"
  },
  {
   "cell_type": "code",
   "execution_count": 42,
   "outputs": [],
   "source": [
    "def get_mfw(definition: str) -> List[str]:\n",
    "    \"\"\"\n",
    "    Get the most frequent words in the definition\n",
    "    :param definition: the definition, as string, for which to get the most frequent words\n",
    "    :return: the most frequent words in the definition\n",
    "    \"\"\"\n",
    "    definition_words = clean_sentence(definition) # remove stopwords, punctuation, lemmatize\n",
    "    word_frequency = Counter(definition_words)\n",
    "    mfw = [word for word, _ in word_frequency.most_common(10)]\n",
    "    return mfw\n",
    "\n",
    "\n",
    "def get_hypo_hyper(synset: Synset) -> List[Synset]:\n",
    "    hyponyms = synset.hyponyms()\n",
    "    hypernyms = synset.hypernyms()\n",
    "    return hyponyms + hypernyms\n",
    "\n",
    "\n",
    "def get_synsets_for_mfw(mfw: List[str]) -> List[Synset]:\n",
    "    synsets: List[Synset] = []\n",
    "    for word in mfw:\n",
    "        synsets += wn.synsets(word)\n",
    "        for synset in wn.synsets(word):\n",
    "            # get hyponyms and hypernyms of the synset\n",
    "            synsets += get_hypo_hyper(synset)\n",
    "    return synsets"
   ],
   "metadata": {
    "collapsed": false,
    "ExecuteTime": {
     "end_time": "2024-04-23T11:57:18.225717500Z",
     "start_time": "2024-04-23T11:57:18.212715900Z"
    }
   },
   "id": "af15ba6cdf9fd6be"
  },
  {
   "cell_type": "markdown",
   "source": [
    "Calculate the signature of the synsets of the most frequent words in the definition"
   ],
   "metadata": {
    "collapsed": false
   },
   "id": "70121492c4505fa6"
  },
  {
   "cell_type": "code",
   "execution_count": 43,
   "outputs": [],
   "source": [
    "def approach_4(definition: str) -> Synset:\n",
    "    \"\"\"\n",
    "    Find the best synset for a given definition by calculating embedding similarity between definition signature and synset signature. Considering only hyponims and hyperonims of the synsets of the most frequent words in the definition.\n",
    "    :param definition: the definition, as string, for which to find the best synset\n",
    "    :return: the synset with the best overlap between the definition signature and the synset signature\n",
    "    \"\"\"\n",
    "    \n",
    "    # get the most frequent words in the definition\n",
    "    mfw = get_mfw(definition)\n",
    "    \n",
    "    # get the synsets for the most frequent words\n",
    "    mfw_synsets = get_synsets_for_mfw(mfw)\n",
    "    \n",
    "    # get the signature of the synsets and the definition\n",
    "    synset_signatures = [get_synset_signature(synset) for synset in mfw_synsets]\n",
    "    definition_signature = clean_sentence(definition)\n",
    "    \n",
    "    max_overlap = 0\n",
    "    best_synset = None\n",
    "    for synset, synset_signature in zip(mfw_synsets, synset_signatures):\n",
    "        overlap = len(set(definition_signature).intersection(set(synset_signature)))\n",
    "        if overlap > max_overlap:\n",
    "            max_overlap = overlap\n",
    "            best_synset = synset\n",
    "    return best_synset"
   ],
   "metadata": {
    "collapsed": false,
    "ExecuteTime": {
     "end_time": "2024-04-23T11:57:18.258715300Z",
     "start_time": "2024-04-23T11:57:18.229738400Z"
    }
   },
   "id": "9a4d04cb791ee829"
  },
  {
   "cell_type": "code",
   "execution_count": 44,
   "outputs": [
    {
     "name": "stdout",
     "output_type": "stream",
     "text": [
      "- DOOR:\n",
      "\t- A construction used to divide two rooms, temporarily closing the passage between them\n",
      "\t\t- Synset('construction.n.05')\n",
      "\t- It's an opening, it can be opened or closed.\n",
      "\t\t- Synset('open.v.09')\n",
      "\t- An object that divide two room, closing an hole in a wall. You can open the door to let people enter or get out.\n",
      "\t\t- Synset('doorway.n.01')\n",
      "\t- Usable for access from one area to another\n",
      "\t\t- Synset('access.v.02')\n",
      "\t- Structure that delimits an area and allows access to it\n",
      "\t\t- Synset('area.n.05')\n",
      "\t- an object that is used to block passage but can be moved to pass\n",
      "\t\t- Synset('chock.n.01')\n",
      "\t- An assembled object, historically made of wood, but also of iron or other materials, used to separate rooms in a building. Sometimes opened by moving a handle, or pushed, or locked and requires some means to unlock. it consists of the main body, the hinges on which it rotates, and a lock.\n",
      "\t\t- Synset('moon.n.02')\n",
      "\t- object used to go through rooms separate by a wall, can be opened or closed\n",
      "\t\t- Synset('study.n.05')\n",
      "\t- something that can be opened, in order to access to another place\n",
      "\t\t- Synset('plant.v.05')\n",
      "\t- the access to a room\n",
      "\t\t- Synset('access.n.03')\n",
      "\t- an object that allows access to a room\n",
      "\t\t- Synset('leave.v.06')\n",
      "\t- Enclosing of an entrance that blocks off intruders as well as weather conditions. Can usually be locked with a key of some sort. At times it presents a small opening through which one can see outside.\n",
      "\t\t- Synset('block.v.15')\n",
      "\t- An object, that allows people to get inside or outside a chamber. Usually it's made with a mechanism that enables a key, which can lock or unlock it.\n",
      "\t\t- Synset('commemorative.n.01')\n",
      "\t- A wall that can be opened and closed at will\n",
      "\t\t- Synset('wall.n.01')\n",
      "\t- A barrier with a mechanism to block or allow access to a room\n",
      "\t\t- Synset('fender.n.01')\n",
      "\t- The way to let people enter or exit a room\n",
      "\t\t- Synset('room.n.02')\n",
      "\t- Artificial object usually made of a hinge, main body and handle. It allows passage between two spaces by being opened. \n",
      "\t\t- Synset('commemorative.n.01')\n",
      "\t- An object that opens and closes and allows you to enter or exit a place\n",
      "\t\t- Synset('open.a.01')\n",
      "\t- Element of the room that allows or blocks the passage through a wall.\n",
      "\t\t- Synset('room.n.01')\n",
      "\t- object to cross to access a limited place \n",
      "\t\t- Synset('back_door.n.01')\n",
      "\t- A rectangular object (usually made out of wood) use to lock access to a room or a house.\n",
      "\t\t- Synset('cabin.n.02')\n",
      "\t- Entrance and exit to a space, building or room.\n",
      "\t\t- Synset('doorway.n.01')\n",
      "\t- An object that allows the connection between two spaces\n",
      "\t\t- Synset('joining.n.01')\n",
      "\t- An architecture to make a person pass through a new space and leave another one\n",
      "\t\t- Synset('make.v.18')\n",
      "\t- entance  to a building or room\n",
      "\t\t- Synset('bathhouse.n.01')\n",
      "\t- An object that opens or close the entrance of a room\n",
      "\t\t- Synset('doorway.n.01')\n",
      "\t- Object that lock the entrance of a house\n",
      "\t\t- Synset('object.n.01')\n",
      "\t- A point of access to a space. Physically, an object which blocks the access to a room or a space.\n",
      "\t\t- Synset('space.n.01')\n",
      "\t- opening that allows something to go in or out\n",
      "\t\t- Synset('opening.n.05')\n",
      "\t- Auxiliary structure built on blank spaces of walls and used to access different areas of building. \n",
      "\t\t- Synset('wall.n.01')\n",
      "- LADYBUG:\n",
      "\t- small flying insect, typically red with black spots with six legs\n",
      "\t\t- Synset('web_spinner.n.01')\n",
      "\t- It is an insect, it has wings, red with black dots. In many cultures it is a  symbol for good luck\n",
      "\t\t- Synset('beetle.n.01')\n",
      "\t- An insect that can fly. It has red or orange color with black dots \n",
      "\t\t- Synset('scarlet.n.01')\n",
      "\t- Small insect with a red back\n",
      "\t\t- Synset('dipterous_insect.n.01')\n",
      "\t- Small round flying insect\n",
      "\t\t- Synset('dipterous_insect.n.01')\n",
      "\t- a small flying insect of the beatle family, tendentially colored by red. \n",
      "\t\t- Synset('dipterous_insect.n.01')\n",
      "\t- Small insect, insectivore, used for natural pest control. Red, with black dots on its back and a black head. Flies and it is considered to bring luck\n",
      "\t\t- Synset('vermin.n.02')\n",
      "\t- small red insect with black dots,  brings luck in some culture.\n",
      "\t\t- Synset('dipterous_insect.n.01')\n",
      "\t- a small insect, red with black dots\n",
      "\t\t- Synset('dipterous_insect.n.01')\n",
      "\t- small insect with red or yellow dotted coat\n",
      "\t\t- Synset('dipterous_insect.n.01')\n",
      "\t- small flying insect, usually red with black dots\n",
      "\t\t- Synset('dipterous_insect.n.01')\n",
      "\t- Tiny flying insect characterised by the red black-dotted coat. Usually considered a good omen.\n",
      "\t\t- Synset('dipterous_insect.n.01')\n",
      "\t- A small red insect, with black spots that lives on the planet. usually it's associated with good luck if it falls on a human being.\n",
      "\t\t- Synset('dipterous_insect.n.01')\n",
      "\t- A small red insect with black dots\n",
      "\t\t- Synset('dipterous_insect.n.01')\n",
      "\t- A red insect with black spots\n",
      "\t\t- Synset('spot.n.05')\n",
      "\t- An insect that have black small dots on its back\n",
      "\t\t- Synset('dipterous_insect.n.01')\n",
      "\t- Harmless flying insect characterized by black dots on its red wings. Generally associated with good luck.\n",
      "\t\t- Synset('crimson.s.02')\n",
      "\t- A small flying insect characterized by a red color and black spots, it is said to bring good luck\n",
      "\t\t- Synset('spot.n.05')\n",
      "\t- Small round insect, usually red with black dots. Generally linked to good luck.\n",
      "\t\t- Synset('dipterous_insect.n.01')\n",
      "\t- Small insect characterized by red color and black dots\n",
      "\t\t- Synset('dipterous_insect.n.01')\n",
      "\t- A small round insect usually red and black with dots that flies on flowers\n",
      "\t\t- Synset('dipterous_insect.n.01')\n",
      "\t- Red small bug with black spot with a round shape.\n",
      "\t\t- Synset('spot.n.05')\n",
      "\t- A small insect usually characterized by red color and black dots  \n",
      "\t\t- Synset('dipterous_insect.n.01')\n",
      "\t- An insect that can fly wich brings luck to a person\n",
      "\t\t- Synset('bee_fly.n.01')\n",
      "\t- A small red insect with black dots. \n",
      "\t\t- Synset('dipterous_insect.n.01')\n",
      "\t- An insect with a red black-dotted back\n",
      "\t\t- Synset('beetle.n.01')\n",
      "\t- Red insect with black dots on the back\n",
      "\t\t- Synset('red.n.01')\n",
      "\t- A small insect known for its red wings with black dots\n",
      "\t\t- Synset('dipterous_insect.n.01')\n",
      "\t- a bug with colored dots\n",
      "\t\t- Synset('lygaeid.n.01')\n",
      "\t- Flying, dome-like structured insect, usually red colored with black-dotted pattern\n",
      "\t\t- Synset('onion_dome.n.01')\n",
      "- PAIN:\n",
      "\t- A feeling of physical or mental distress\n",
      "\t\t- Synset('pressure.n.06')\n",
      "\t- It is a feeling, physical or emotional. It is bad, it hurt. \n",
      "\t\t- Synset('bad.s.03')\n",
      "\t- A felling that couscious beings can experince when they suffer\n",
      "\t\t- Synset('suffer.v.10')\n",
      "\t- Concept that describes a suffering living being\n",
      "\t\t- Synset('abstraction.n.01')\n",
      "\t- Feeling of physical discomfort\n",
      "\t\t- Synset('feeling.n.04')\n",
      "\t- an unpleasant burning sensation\n",
      "\t\t- Synset('unpleasant.a.01')\n",
      "\t- A negative sensation felt by creatures. It can be of physical nature, if the body is damaged, or psychological.\n",
      "\t\t- Synset('feel.v.03')\n",
      "\t- feeling of physical pain caused by an injury or emotional pain caused by sadness\n",
      "\t\t- Synset('pain.n.02')\n",
      "\t- a sentiment that expresses sorrow\n",
      "\t\t- Synset('sorrow.n.01')\n",
      "\t- unpleasant sensation resulting from physical or emotional exertion\n",
      "\t\t- Synset('masking.n.02')\n",
      "\t- unpleasant physical or emotional sensation\n",
      "\t\t- Synset('unpleasant.a.01')\n",
      "\t- Feeling that occurs when something bad happens, either phisically or mentally to a being. It could result in light discomfort, up to loud cries.\n",
      "\t\t- Synset('bad.s.03')\n",
      "\t- A physical or emotional sensation that can bring discomfort or soreness to a person.\n",
      "\t\t- Synset('aroused.s.06')\n",
      "\t- A feeling caused by physical or emotional harm\n",
      "\t\t- Synset('feeling.n.01')\n",
      "\t- An unpleasant and harmful feeling\n",
      "\t\t- Synset('unpleasant.a.01')\n",
      "\t- A physical or emotional sensation that is unconfortable \n",
      "\t\t- Synset('physical.a.01')\n",
      "\t- Feeling of uneasiness that causes physical or emotional harm. \n",
      "\t\t- Synset('feeling.n.01')\n",
      "\t- A non-positive feeling that you feel for tangible or non-tangible situations\n",
      "\t\t- Synset('affection.n.01')\n",
      "\t- Feeling produced by natural and complex brain that is necessary to make the creature aware of physical or emotional/mental issues.\n",
      "\t\t- Synset('feel.v.04')\n",
      "\t- unpleasant emotion associated with suffering\n",
      "\t\t- Synset('anxiety.n.02')\n",
      "\t- A emotion that can be felt when getting harmed or when our body want's to tell us that something isn't right.\n",
      "\t\t- Synset('right.n.01')\n",
      "\t- Kind of physical or emotional sensation felt in response to something harmful or emotionally damaging.\n",
      "\t\t- Synset('feel.v.01')\n",
      "\t- a feeling that causes discomfort to those who experience it\n",
      "\t\t- Synset('feeling.n.04')\n",
      "\t- Something that hurts a person emotionally or physically\n",
      "\t\t- Synset('acquirer.n.01')\n",
      "\t- sickening sensation\n",
      "\t\t- Synset('nauseating.s.01')\n",
      "\t- A bad physical or emotional feeling\n",
      "\t\t- Synset('bad.s.03')\n",
      "\t- Feeling when you get hurt\n",
      "\t\t- Synset('experience.v.03')\n",
      "\t- The sensation of being hurt\n",
      "\t\t- Synset('sensation.n.01')\n",
      "\t- very bad feeling\n",
      "\t\t- Synset('bad.s.03')\n",
      "\t- negative sensation causing discomfort both physically and mentally. \n",
      "\t\t- Synset('negative.n.01')\n",
      "- BLURRINESS:\n",
      "\t- sight out of focus\n",
      "\t\t- Synset('sight.n.01')\n",
      "\t- It is the absence of definite borders, shapelessness.\n",
      "\t\t- Synset('absence.n.01')\n",
      "\t- A sensation felt when you can't see clearly the border of something\n",
      "\t\t- Synset('sound.n.02')\n",
      "\t- Lack of sharpness\n",
      "\t\t- Synset('lack.n.01')\n",
      "\t- Characteristic of lack of clarity or precision\n",
      "\t\t- Synset('robustness.n.02')\n",
      "\t- a sensation of blurring in the eyes. \"you see everything blurred\"\n",
      "\t\t- Synset('see.v.17')\n",
      "\t- The inability to accurately perceive a certain kind of goal, whether physical or conceptual.\n",
      "\t\t- Synset('feel.v.03')\n",
      "\t- lack of memory, bad eye vision or unfocused image\n",
      "\t\t- Synset('naked_eye.n.01')\n",
      "\t- a condition thant makes what you are seeing not totally bright and clear\n",
      "\t\t- Synset('clear.v.20')\n",
      "\t- a state of confusion resulting from physical exertion, the use of alcohol or drugs\n",
      "\t\t- Synset('effort.n.02')\n",
      "\t- a sense of confusion\n",
      "\t\t- Synset('sense.n.01')\n",
      "\t- Property of an object that is hard to make out or see. It usually happens after drug use or illness. Also a propery of a photograph that is out of focus.\n",
      "\t\t- Synset('property.n.04')\n",
      "\t- A condition that doesn't allow a person to see in a detailed way other people or objects in a close or far distance.\n",
      "\t\t- Synset('identification.n.03')\n",
      "\t- The absence of clarity and defined borders in an image or visual \n",
      "\t\t- Synset('picture.n.01')\n",
      "\t- A visual condition that blends details together, losing clarity\n",
      "\t\t- Synset('impaction.n.01')\n",
      "\t- A phenomenon that disrupts partially the vision of the person or of the camera\n",
      "\t\t- Synset('levitation.n.01')\n",
      "\t- State of indefiniteness. It is the state for which something that can be perceived is not perceived clearly or metaphorically it is the state of a ill defined concept. \n",
      "\t\t- Synset('state.n.02')\n",
      "\t- A specific condition that makes something less visible. Often used in photographic context when the subject is not in focus\n",
      "\t\t- Synset('specific.a.04')\n",
      "\t- State that can be attributed to an image, to the natural eye or to a vision device, in which the borders are not clearly defined.\n",
      "\t\t- Synset('articulate.v.05')\n",
      "\t- characteristic of an undefined image, whose shapes and lines are hard to recognize\n",
      "\t\t- Synset('figure.n.06')\n",
      "\t- A phenomena that happens when something isn't visually clear, with colours that mix near the edges. It can happen on a picture or because of visual problems of the eye.\n",
      "\t\t- Synset('happen.v.02')\n",
      "\t- An effect that affect vision or images that confuses outlines and details making them hard to see.\n",
      "\t\t- Synset('affect.v.01')\n",
      "\t- A visual effect that makes not clear and hard to see something\n",
      "\t\t- Synset('make.v.02')\n",
      "\t- A visual effect which allows you not to see in a clear way objects \n",
      "\t\t- Synset('clear.v.02')\n",
      "\t- a visual perception that confuses what you are looking at\n",
      "\t\t- Synset('ocular.a.02')\n",
      "\t- A distorted vision\n",
      "\t\t- Synset('deformed.s.01')\n",
      "\t- Condition of the eyes that can be corrected with eyeglasses\n",
      "\t\t- Synset('eye_condition.n.01')\n",
      "\t- A faulty perception of a specific object which is perceived as not properly defined.\n",
      "\t\t- Synset('constancy.n.02')\n",
      "\t- blinding effect. increases with distance\n",
      "\t\t- Synset('blazing.s.01')\n",
      "\t- Lack of texture and quality of image given by low focus\n",
      "\t\t- Synset('texture.n.02')\n"
     ]
    }
   ],
   "source": [
    "test_method(approach_4)"
   ],
   "metadata": {
    "collapsed": false,
    "ExecuteTime": {
     "end_time": "2024-04-23T11:59:05.787608900Z",
     "start_time": "2024-04-23T11:57:18.242716500Z"
    }
   },
   "id": "e02881241bd0d06f"
  },
  {
   "cell_type": "markdown",
   "source": [
    "We now got slightly better results with respect to Approach 2. This because we are starting from the synsets of most frequent words in the definition, focusing on a part of the WordNet graph that should be more relevant and closer to the word we are looking for.\n",
    "We are now considering an approach similar to the \"Genus-Differentia\" principle. In this case, we are considering the most frequent words synsets as Genus but we are considering not only more specific synsets as Differentia (hyponims) but eventually also hyperonims."
   ],
   "metadata": {
    "collapsed": false
   },
   "id": "248c66199582b83d"
  },
  {
   "cell_type": "markdown",
   "source": [
    "### Testing methods with merged definitions\n",
    "\n",
    "We now test the methods with the merged definitions of the words. The merged definition is the concatenation of all the definitions of a word. This should give use more infomation to find the correct word, instead of a single definition."
   ],
   "metadata": {
    "collapsed": false
   },
   "id": "bc3e5abacbb23fde"
  },
  {
   "cell_type": "code",
   "execution_count": 45,
   "outputs": [],
   "source": [
    "def test_method_merged_definitions(method):\n",
    "    for word in definitions_dict:\n",
    "        merged_definition = ' '.join(definitions_dict[word])\n",
    "        print(f'- {word.upper()}:')\n",
    "        word_found = method(merged_definition)\n",
    "        print(f'\\t- {word_found}')"
   ],
   "metadata": {
    "collapsed": false,
    "ExecuteTime": {
     "end_time": "2024-04-23T11:59:05.817607100Z",
     "start_time": "2024-04-23T11:59:05.787608900Z"
    }
   },
   "id": "b40d5fa05809fd32"
  },
  {
   "cell_type": "code",
   "execution_count": 46,
   "outputs": [
    {
     "name": "stdout",
     "output_type": "stream",
     "text": [
      "- DOOR:\n",
      "\t- Synset('spacing.n.02')\n",
      "- LADYBUG:\n",
      "\t- Synset('diagonal.n.04')\n",
      "- PAIN:\n",
      "\t- Synset('substance.n.04')\n",
      "- BLURRINESS:\n",
      "\t- Synset('personality.n.01')\n"
     ]
    }
   ],
   "source": [
    "test_method_merged_definitions(approach_2)"
   ],
   "metadata": {
    "collapsed": false,
    "ExecuteTime": {
     "end_time": "2024-04-23T11:59:07.482607300Z",
     "start_time": "2024-04-23T11:59:05.805608300Z"
    }
   },
   "id": "b6d8ca8fefab0f98"
  },
  {
   "cell_type": "code",
   "execution_count": 47,
   "outputs": [
    {
     "name": "stdout",
     "output_type": "stream",
     "text": [
      "- DOOR:\n",
      "\t- allowing\n",
      "- LADYBUG:\n"
     ]
    },
    {
     "name": "stderr",
     "output_type": "stream",
     "text": [
      "C:\\Users\\Gianl\\AppData\\Local\\Temp\\ipykernel_17144\\1300944949.py:20: UserWarning: [W008] Evaluating Doc.similarity based on empty vectors.\n",
      "  similarity = definition_doc.similarity(word_embedding)\n"
     ]
    },
    {
     "name": "stdout",
     "output_type": "stream",
     "text": [
      "\t- yellow\n",
      "- PAIN:\n",
      "\t- soreness\n",
      "- BLURRINESS:\n",
      "\t- blinding\n"
     ]
    }
   ],
   "source": [
    "test_method_merged_definitions(approach_3)"
   ],
   "metadata": {
    "collapsed": false,
    "ExecuteTime": {
     "end_time": "2024-04-23T11:59:08.097652Z",
     "start_time": "2024-04-23T11:59:07.482607300Z"
    }
   },
   "id": "a821feafcbc349b8"
  },
  {
   "cell_type": "code",
   "execution_count": 48,
   "outputs": [
    {
     "name": "stdout",
     "output_type": "stream",
     "text": [
      "- DOOR:\n",
      "\t- Synset('leave.v.06')\n",
      "- LADYBUG:\n",
      "\t- Synset('dipterous_insect.n.01')\n",
      "- PAIN:\n",
      "\t- Synset('bad.s.03')\n",
      "- BLURRINESS:\n",
      "\t- Synset('picture.n.01')\n"
     ]
    }
   ],
   "source": [
    "test_method_merged_definitions(approach_4)"
   ],
   "metadata": {
    "collapsed": false,
    "ExecuteTime": {
     "end_time": "2024-04-23T12:04:38.932105500Z",
     "start_time": "2024-04-23T12:04:32.962724400Z"
    }
   },
   "id": "a1c6321306cdb4a9"
  }
 ],
 "metadata": {
  "kernelspec": {
   "display_name": "Python 3",
   "language": "python",
   "name": "python3"
  },
  "language_info": {
   "codemirror_mode": {
    "name": "ipython",
    "version": 2
   },
   "file_extension": ".py",
   "mimetype": "text/x-python",
   "name": "python",
   "nbconvert_exporter": "python",
   "pygments_lexer": "ipython2",
   "version": "2.7.6"
  }
 },
 "nbformat": 4,
 "nbformat_minor": 5
}
