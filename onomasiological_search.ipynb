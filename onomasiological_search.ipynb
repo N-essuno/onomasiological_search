{
 "cells": [
  {
   "cell_type": "code",
   "execution_count": 452,
   "outputs": [],
   "source": [
    "import pandas as pd\n",
    "import nltk\n",
    "from nltk.corpus import wordnet as wn, stopwords\n",
    "from nltk.corpus.reader import Synset\n",
    "from nltk.stem import WordNetLemmatizer\n",
    "from nltk.tokenize import RegexpTokenizer\n",
    "from collections import Counter\n",
    "from typing import Dict, List, Tuple"
   ],
   "metadata": {
    "collapsed": false,
    "ExecuteTime": {
     "end_time": "2024-03-13T12:26:48.356853100Z",
     "start_time": "2024-03-13T12:26:48.302856700Z"
    }
   },
   "id": "6cd764fb30b2e96a"
  },
  {
   "cell_type": "code",
   "execution_count": 453,
   "outputs": [
    {
     "name": "stderr",
     "output_type": "stream",
     "text": [
      "[nltk_data] Downloading package wordnet to\n",
      "[nltk_data]     C:\\Users\\Gianl\\AppData\\Roaming\\nltk_data...\n",
      "[nltk_data]   Package wordnet is already up-to-date!\n"
     ]
    },
    {
     "data": {
      "text/plain": "True"
     },
     "execution_count": 453,
     "metadata": {},
     "output_type": "execute_result"
    }
   ],
   "source": [
    "nltk.download('wordnet')"
   ],
   "metadata": {
    "collapsed": false,
    "ExecuteTime": {
     "end_time": "2024-03-13T12:26:48.388854300Z",
     "start_time": "2024-03-13T12:26:48.322858200Z"
    }
   },
   "id": "ca518ff0c70050d"
  },
  {
   "cell_type": "code",
   "execution_count": 454,
   "outputs": [
    {
     "data": {
      "text/plain": "                                                door  \\\n0  A construction used to divide two rooms, tempo...   \n1       It's an opening, it can be opened or closed.   \n2  An object that divide two room, closing an hol...   \n3         Usable for access from one area to another   \n4  Structure that delimits an area and allows acc...   \n\n                                             ladybug  \\\n0  small flying insect, typically red with black ...   \n1  It is an insect, it has wings, red with black ...   \n2  An insect that can fly. It has red or orange c...   \n3                       Small insect with a red back   \n4                          Small round flying insect   \n\n                                                pain  \\\n0           A feeling of physical or mental distress   \n1  It is a feeling, physical or emotional. It is ...   \n2  A felling that couscious beings can experince ...   \n3    Concept that describes a suffering living being   \n4                     Feeling of physical discomfort   \n\n                                          blurriness  \n0                                 sight out of focus  \n1  It is the absence of definite borders, shapele...  \n2  A sensation felt when you can't see clearly th...  \n3                                  Lack of sharpness  \n4     Characteristic of lack of clarity or precision  ",
      "text/html": "<div>\n<style scoped>\n    .dataframe tbody tr th:only-of-type {\n        vertical-align: middle;\n    }\n\n    .dataframe tbody tr th {\n        vertical-align: top;\n    }\n\n    .dataframe thead th {\n        text-align: right;\n    }\n</style>\n<table border=\"1\" class=\"dataframe\">\n  <thead>\n    <tr style=\"text-align: right;\">\n      <th></th>\n      <th>door</th>\n      <th>ladybug</th>\n      <th>pain</th>\n      <th>blurriness</th>\n    </tr>\n  </thead>\n  <tbody>\n    <tr>\n      <th>0</th>\n      <td>A construction used to divide two rooms, tempo...</td>\n      <td>small flying insect, typically red with black ...</td>\n      <td>A feeling of physical or mental distress</td>\n      <td>sight out of focus</td>\n    </tr>\n    <tr>\n      <th>1</th>\n      <td>It's an opening, it can be opened or closed.</td>\n      <td>It is an insect, it has wings, red with black ...</td>\n      <td>It is a feeling, physical or emotional. It is ...</td>\n      <td>It is the absence of definite borders, shapele...</td>\n    </tr>\n    <tr>\n      <th>2</th>\n      <td>An object that divide two room, closing an hol...</td>\n      <td>An insect that can fly. It has red or orange c...</td>\n      <td>A felling that couscious beings can experince ...</td>\n      <td>A sensation felt when you can't see clearly th...</td>\n    </tr>\n    <tr>\n      <th>3</th>\n      <td>Usable for access from one area to another</td>\n      <td>Small insect with a red back</td>\n      <td>Concept that describes a suffering living being</td>\n      <td>Lack of sharpness</td>\n    </tr>\n    <tr>\n      <th>4</th>\n      <td>Structure that delimits an area and allows acc...</td>\n      <td>Small round flying insect</td>\n      <td>Feeling of physical discomfort</td>\n      <td>Characteristic of lack of clarity or precision</td>\n    </tr>\n  </tbody>\n</table>\n</div>"
     },
     "execution_count": 454,
     "metadata": {},
     "output_type": "execute_result"
    }
   ],
   "source": [
    "definitions = pd.read_csv('resources/definitions.tsv', sep='\\t')\n",
    "definitions.head()\n",
    "\n",
    "# remove index from the dataframe (for each row it is the first element)\n",
    "definitions = definitions.iloc[:, 1:]\n",
    "definitions.head()"
   ],
   "metadata": {
    "collapsed": false,
    "ExecuteTime": {
     "end_time": "2024-03-13T12:26:48.389854400Z",
     "start_time": "2024-03-13T12:26:48.338856200Z"
    }
   },
   "id": "e565075752925fbb"
  },
  {
   "cell_type": "code",
   "execution_count": 455,
   "outputs": [],
   "source": [
    "# convert the dataframe to a dictionary for easier access\n",
    "definitions_dict: Dict[str, List[str]] = {}\n",
    "for column in definitions.columns:\n",
    "    definitions_dict[column] = definitions[column].tolist()"
   ],
   "metadata": {
    "collapsed": false,
    "ExecuteTime": {
     "end_time": "2024-03-13T12:26:48.390852800Z",
     "start_time": "2024-03-13T12:26:48.351854100Z"
    }
   },
   "id": "f7cc058805ea9006"
  },
  {
   "cell_type": "code",
   "execution_count": 456,
   "outputs": [
    {
     "name": "stdout",
     "output_type": "stream",
     "text": [
      "- DOOR: \n",
      "\tA construction used to divide two rooms, temporarily closing the passage between them\n",
      "- LADYBUG: \n",
      "\tsmall flying insect, typically red with black spots with six legs\n",
      "- PAIN: \n",
      "\tA feeling of physical or mental distress\n",
      "- BLURRINESS: \n",
      "\tsight out of focus\n"
     ]
    }
   ],
   "source": [
    "# print every word and one of its definitions\n",
    "for word in definitions_dict:\n",
    "    print(f'- {word.upper()}: \\n\\t{definitions_dict[word][0]}')"
   ],
   "metadata": {
    "collapsed": false,
    "ExecuteTime": {
     "end_time": "2024-03-13T12:26:48.391852700Z",
     "start_time": "2024-03-13T12:26:48.368856700Z"
    }
   },
   "id": "7c73b36e75d51850"
  },
  {
   "cell_type": "markdown",
   "source": [
    "### Function to merge definition strings in one single string"
   ],
   "metadata": {
    "collapsed": false
   },
   "id": "c00faa0526fec2b2"
  },
  {
   "cell_type": "code",
   "execution_count": 457,
   "outputs": [],
   "source": [
    "def merge_definitions(definitions: Dict[str, List[str]]):\n",
    "    merged_definitions = {}\n",
    "    for word in definitions:\n",
    "        merged_definitions[word] = ' '.join(definitions[word])\n",
    "        \n",
    "    return merged_definitions"
   ],
   "metadata": {
    "collapsed": false,
    "ExecuteTime": {
     "end_time": "2024-03-13T12:26:48.428853300Z",
     "start_time": "2024-03-13T12:26:48.383856600Z"
    }
   },
   "id": "86b02f610f6f7be9"
  },
  {
   "cell_type": "code",
   "execution_count": 458,
   "outputs": [
    {
     "name": "stdout",
     "output_type": "stream",
     "text": [
      "A construction used to divide two rooms, temporarily closing the passage between them It's an opening, it can be opened or closed. An object that divide two room, closing an hole in a wall. You can open the door to let people enter or get out. Usable for access from one area to another Structure that delimits an area and allows access to it an object that is used to block passage but can be moved to pass An assembled object, historically made of wood, but also of iron or other materials, used to separate rooms in a building. Sometimes opened by moving a handle, or pushed, or locked and requires some means to unlock. it consists of the main body, the hinges on which it rotates, and a lock. object used to go through rooms separate by a wall, can be opened or closed something that can be opened, in order to access to another place the access to a room an object that allows access to a room Enclosing of an entrance that blocks off intruders as well as weather conditions. Can usually be locked with a key of some sort. At times it presents a small opening through which one can see outside. An object, that allows people to get inside or outside a chamber. Usually it's made with a mechanism that enables a key, which can lock or unlock it. A wall that can be opened and closed at will A barrier with a mechanism to block or allow access to a room The way to let people enter or exit a room Artificial object usually made of a hinge, main body and handle. It allows passage between two spaces by being opened.  An object that opens and closes and allows you to enter or exit a place Element of the room that allows or blocks the passage through a wall. object to cross to access a limited place  A rectangular object (usually made out of wood) use to lock access to a room or a house. Entrance and exit to a space, building or room. An object that allows the connection between two spaces An architecture to make a person pass through a new space and leave another one entance  to a building or room An object that opens or close the entrance of a room Object that lock the entrance of a house A point of access to a space. Physically, an object which blocks the access to a room or a space. opening that allows something to go in or out Auxiliary structure built on blank spaces of walls and used to access different areas of building. \n"
     ]
    }
   ],
   "source": [
    "print(merge_definitions(definitions_dict)['door'])"
   ],
   "metadata": {
    "collapsed": false,
    "ExecuteTime": {
     "end_time": "2024-03-13T12:26:48.476854700Z",
     "start_time": "2024-03-13T12:26:48.399854700Z"
    }
   },
   "id": "5353db11e2558bf3"
  },
  {
   "cell_type": "code",
   "execution_count": 459,
   "outputs": [],
   "source": [
    "lemmatizer = WordNetLemmatizer()\n",
    "\n",
    "def clean_word_list(word_list: List[str]):\n",
    "    # convert to lower case\n",
    "    word_list = [word.lower() for word in word_list]\n",
    "    # tokenize the words\n",
    "    tokenizer = RegexpTokenizer(r'\\w+')\n",
    "    word_list = tokenizer.tokenize(' '.join(word_list))\n",
    "    # # remove punctuation\n",
    "    # word_list = [word for word in word_list if word not in punctuation]\n",
    "    # remove stop words using the nltk stop words list\n",
    "    word_list = [word for word in word_list if word not in stopwords.words('english')]\n",
    "    # lemmatize the words\n",
    "    word_list = [lemmatizer.lemmatize(word) for word in word_list]\n",
    "    return word_list"
   ],
   "metadata": {
    "collapsed": false,
    "ExecuteTime": {
     "end_time": "2024-03-13T12:26:48.476854700Z",
     "start_time": "2024-03-13T12:26:48.416860Z"
    }
   },
   "id": "5401e697a743a6a5"
  },
  {
   "cell_type": "markdown",
   "source": [
    "### Function to calculate the signature of the definitions\n",
    "\n",
    "For each word, the signature is a list of words that are present in the definitions of the word. The words are lemmatized and the punctuation and stop words are removed."
   ],
   "metadata": {
    "collapsed": false
   },
   "id": "b98abba79efd2dc0"
  },
  {
   "cell_type": "code",
   "execution_count": 460,
   "outputs": [],
   "source": [
    "# calculate signature of definitions\n",
    "def calculate_signature(definitions: Dict[str, List[str]]):\n",
    "    merged_definitions = merge_definitions(definitions)\n",
    "    signature = {}\n",
    "    for word in merged_definitions:\n",
    "        word_list = merged_definitions[word].split()\n",
    "        word_list = clean_word_list(word_list)\n",
    "        signature[word] = word_list\n",
    "    return signature"
   ],
   "metadata": {
    "collapsed": false,
    "ExecuteTime": {
     "end_time": "2024-03-13T12:26:48.508852600Z",
     "start_time": "2024-03-13T12:26:48.431852900Z"
    }
   },
   "id": "d0a8b1b701e667b5"
  },
  {
   "cell_type": "code",
   "execution_count": 461,
   "outputs": [
    {
     "name": "stdout",
     "output_type": "stream",
     "text": [
      "['construction', 'used', 'divide', 'two', 'room', 'temporarily', 'closing', 'passage', 'opening', 'opened', 'closed', 'object', 'divide', 'two', 'room', 'closing', 'hole', 'wall', 'open', 'door', 'let', 'people', 'enter', 'get', 'usable', 'access', 'one', 'area', 'another', 'structure', 'delimits', 'area', 'allows', 'access', 'object', 'used', 'block', 'passage', 'moved', 'pas', 'assembled', 'object', 'historically', 'made', 'wood', 'also', 'iron', 'material', 'used', 'separate', 'room', 'building', 'sometimes', 'opened', 'moving', 'handle', 'pushed', 'locked', 'requires', 'mean', 'unlock', 'consists', 'main', 'body', 'hinge', 'rotates', 'lock', 'object', 'used', 'go', 'room', 'separate', 'wall', 'opened', 'closed', 'something', 'opened', 'order', 'access', 'another', 'place', 'access', 'room', 'object', 'allows', 'access', 'room', 'enclosing', 'entrance', 'block', 'intruder', 'well', 'weather', 'condition', 'usually', 'locked', 'key', 'sort', 'time', 'present', 'small', 'opening', 'one', 'see', 'outside', 'object', 'allows', 'people', 'get', 'inside', 'outside', 'chamber', 'usually', 'made', 'mechanism', 'enables', 'key', 'lock', 'unlock', 'wall', 'opened', 'closed', 'barrier', 'mechanism', 'block', 'allow', 'access', 'room', 'way', 'let', 'people', 'enter', 'exit', 'room', 'artificial', 'object', 'usually', 'made', 'hinge', 'main', 'body', 'handle', 'allows', 'passage', 'two', 'space', 'opened', 'object', 'open', 'close', 'allows', 'enter', 'exit', 'place', 'element', 'room', 'allows', 'block', 'passage', 'wall', 'object', 'cross', 'access', 'limited', 'place', 'rectangular', 'object', 'usually', 'made', 'wood', 'use', 'lock', 'access', 'room', 'house', 'entrance', 'exit', 'space', 'building', 'room', 'object', 'allows', 'connection', 'two', 'space', 'architecture', 'make', 'person', 'pas', 'new', 'space', 'leave', 'another', 'one', 'entance', 'building', 'room', 'object', 'open', 'close', 'entrance', 'room', 'object', 'lock', 'entrance', 'house', 'point', 'access', 'space', 'physically', 'object', 'block', 'access', 'room', 'space', 'opening', 'allows', 'something', 'go', 'auxiliary', 'structure', 'built', 'blank', 'space', 'wall', 'used', 'access', 'different', 'area', 'building']\n"
     ]
    }
   ],
   "source": [
    "signatures = calculate_signature(definitions_dict)\n",
    "print(signatures['door'])"
   ],
   "metadata": {
    "collapsed": false,
    "ExecuteTime": {
     "end_time": "2024-03-13T12:26:48.812856200Z",
     "start_time": "2024-03-13T12:26:48.446855200Z"
    }
   },
   "id": "58d9b89eadef7f29"
  },
  {
   "cell_type": "code",
   "execution_count": 462,
   "outputs": [],
   "source": [
    "# # Get the root synset for the noun hierarchy\n",
    "# root_synset = wn.synset('entity.n.01')\n",
    "# \n",
    "# # Retrieve synsets related to the root synset (e.g., hyponyms)\n",
    "# hyponyms = root_synset.hyponyms()\n",
    "# \n",
    "# # Print the synsets\n",
    "# for synset in hyponyms:\n",
    "#     print(synset)\n",
    "#     print(synset.definition())\n",
    "#     print(synset.examples())"
   ],
   "metadata": {
    "collapsed": false,
    "ExecuteTime": {
     "end_time": "2024-03-13T12:26:48.855853500Z",
     "start_time": "2024-03-13T12:26:48.811855600Z"
    }
   },
   "id": "d88c5f037dc736a0"
  },
  {
   "cell_type": "code",
   "execution_count": 463,
   "outputs": [],
   "source": [
    "# extract synset of 10 most frequent words in definitions\n",
    "def get_synsets_for_word(word: str) -> List[Synset]:\n",
    "    # calculate words frequency for the set of definitions of a word\n",
    "    word_frequency = Counter(signatures[word])\n",
    "    most_common_words: List[Tuple] = word_frequency.most_common(10)\n",
    "    word = most_common_words[0][0]\n",
    "\n",
    "    if wn.synsets(word):\n",
    "        synset = wn.synsets(word)[0]\n",
    "        if synset.pos() == 'n':\n",
    "            print(synset)\n",
    "    \n",
    "    # get 10 most common nouns from most common words\n",
    "    most_common_words = [word_tuple for word_tuple in most_common_words if wn.synsets(word_tuple[0]) and wn.synsets(word_tuple[0])[0].pos() == 'n']\n",
    "    \n",
    "    print(most_common_words)\n",
    "    \n",
    "    # get the synsets for the most common words\n",
    "    synsets: List[Synset] = [wn.synsets(word_tuple[0])[0] for word_tuple in most_common_words]\n",
    "    return synsets"
   ],
   "metadata": {
    "collapsed": false,
    "ExecuteTime": {
     "end_time": "2024-03-13T12:26:48.866853600Z",
     "start_time": "2024-03-13T12:26:48.829854900Z"
    }
   },
   "id": "feaa5efcf095a0aa"
  },
  {
   "cell_type": "code",
   "execution_count": 464,
   "outputs": [
    {
     "name": "stdout",
     "output_type": "stream",
     "text": [
      "Synset('room.n.01')\n",
      "[('room', 14), ('object', 14), ('access', 11), ('space', 7), ('wall', 5), ('block', 5), ('two', 4)]\n"
     ]
    },
    {
     "data": {
      "text/plain": "[Synset('room.n.01'),\n Synset('object.n.01'),\n Synset('entree.n.02'),\n Synset('space.n.01'),\n Synset('wall.n.01'),\n Synset('block.n.01'),\n Synset('two.n.01')]"
     },
     "execution_count": 464,
     "metadata": {},
     "output_type": "execute_result"
    }
   ],
   "source": [
    "get_synsets_for_word('door')"
   ],
   "metadata": {
    "collapsed": false,
    "ExecuteTime": {
     "end_time": "2024-03-13T12:26:48.868857100Z",
     "start_time": "2024-03-13T12:26:48.842857500Z"
    }
   },
   "id": "23078ed7d5089db1"
  }
 ],
 "metadata": {
  "kernelspec": {
   "display_name": "Python 3",
   "language": "python",
   "name": "python3"
  },
  "language_info": {
   "codemirror_mode": {
    "name": "ipython",
    "version": 2
   },
   "file_extension": ".py",
   "mimetype": "text/x-python",
   "name": "python",
   "nbconvert_exporter": "python",
   "pygments_lexer": "ipython2",
   "version": "2.7.6"
  }
 },
 "nbformat": 4,
 "nbformat_minor": 5
}
